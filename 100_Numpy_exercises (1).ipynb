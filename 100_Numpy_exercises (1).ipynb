{
  "cells": [
    {
      "cell_type": "markdown",
      "id": "d46e26d4",
      "metadata": {
        "id": "d46e26d4"
      },
      "source": [
        "# 100 numpy exercises\n",
        "\n",
        "This is a collection of exercises that have been collected in the numpy mailing list, on stack overflow\n",
        "and in the numpy documentation. The goal of this collection is to offer a quick reference for both old\n",
        "and new users but also to provide a set of exercises for those who teach.\n",
        "\n",
        "\n",
        "If you find an error or think you've a better way to solve some of them, feel\n",
        "free to open an issue at <https://github.com/rougier/numpy-100>."
      ]
    },
    {
      "cell_type": "markdown",
      "id": "d391e44c",
      "metadata": {
        "id": "d391e44c"
      },
      "source": [
        "File automatically generated. See the documentation to update questions/answers/hints programmatically."
      ]
    },
    {
      "cell_type": "markdown",
      "id": "1ce7c53f",
      "metadata": {
        "id": "1ce7c53f"
      },
      "source": [
        "Run the `initialize.py` module, then for each question you can query the\n",
        "answer or an hint with `hint(n)` or `answer(n)` for `n` question number."
      ]
    },
    {
      "cell_type": "code",
      "source": [
        "!pip install nbformat"
      ],
      "metadata": {
        "colab": {
          "base_uri": "https://localhost:8080/"
        },
        "id": "pTTbmRwC6868",
        "outputId": "b2055e86-e3d0-49f9-a0d7-98ae4685eb0c"
      },
      "id": "pTTbmRwC6868",
      "execution_count": 7,
      "outputs": [
        {
          "output_type": "stream",
          "name": "stdout",
          "text": [
            "Requirement already satisfied: nbformat in /usr/local/lib/python3.11/dist-packages (5.10.4)\n",
            "Requirement already satisfied: fastjsonschema>=2.15 in /usr/local/lib/python3.11/dist-packages (from nbformat) (2.21.1)\n",
            "Requirement already satisfied: jsonschema>=2.6 in /usr/local/lib/python3.11/dist-packages (from nbformat) (4.23.0)\n",
            "Requirement already satisfied: jupyter-core!=5.0.*,>=4.12 in /usr/local/lib/python3.11/dist-packages (from nbformat) (5.7.2)\n",
            "Requirement already satisfied: traitlets>=5.1 in /usr/local/lib/python3.11/dist-packages (from nbformat) (5.7.1)\n",
            "Requirement already satisfied: attrs>=22.2.0 in /usr/local/lib/python3.11/dist-packages (from jsonschema>=2.6->nbformat) (25.1.0)\n",
            "Requirement already satisfied: jsonschema-specifications>=2023.03.6 in /usr/local/lib/python3.11/dist-packages (from jsonschema>=2.6->nbformat) (2024.10.1)\n",
            "Requirement already satisfied: referencing>=0.28.4 in /usr/local/lib/python3.11/dist-packages (from jsonschema>=2.6->nbformat) (0.36.2)\n",
            "Requirement already satisfied: rpds-py>=0.7.1 in /usr/local/lib/python3.11/dist-packages (from jsonschema>=2.6->nbformat) (0.23.1)\n",
            "Requirement already satisfied: platformdirs>=2.5 in /usr/local/lib/python3.11/dist-packages (from jupyter-core!=5.0.*,>=4.12->nbformat) (4.3.6)\n",
            "Requirement already satisfied: typing-extensions>=4.4.0 in /usr/local/lib/python3.11/dist-packages (from referencing>=0.28.4->jsonschema>=2.6->nbformat) (4.12.2)\n"
          ]
        }
      ]
    },
    {
      "cell_type": "code",
      "execution_count": null,
      "id": "2e6ba9b2",
      "metadata": {
        "id": "2e6ba9b2"
      },
      "outputs": [],
      "source": [
        "%run initialise.py"
      ]
    },
    {
      "cell_type": "markdown",
      "id": "dcc6b1ac",
      "metadata": {
        "id": "dcc6b1ac"
      },
      "source": [
        "#### 1. Import the numpy package under the name `np` (★☆☆)"
      ]
    },
    {
      "cell_type": "code",
      "execution_count": 2,
      "id": "6c52078e",
      "metadata": {
        "id": "6c52078e"
      },
      "outputs": [],
      "source": [
        "import numpy as np"
      ]
    },
    {
      "cell_type": "markdown",
      "id": "118ded29",
      "metadata": {
        "id": "118ded29"
      },
      "source": [
        "#### 2. Print the numpy version and the configuration (★☆☆)"
      ]
    },
    {
      "cell_type": "code",
      "execution_count": 10,
      "id": "023a2c52",
      "metadata": {
        "colab": {
          "base_uri": "https://localhost:8080/",
          "height": 36
        },
        "id": "023a2c52",
        "outputId": "3a298f0e-1886-4c8f-bdd6-7dc84f95f6b5"
      },
      "outputs": [
        {
          "output_type": "execute_result",
          "data": {
            "text/plain": [
              "'1.26.4'"
            ],
            "application/vnd.google.colaboratory.intrinsic+json": {
              "type": "string"
            }
          },
          "metadata": {},
          "execution_count": 10
        }
      ],
      "source": [
        "np.__version__"
      ]
    },
    {
      "cell_type": "markdown",
      "id": "172b913a",
      "metadata": {
        "id": "172b913a"
      },
      "source": [
        "#### 3. Create a null vector of size 10 (★☆☆)"
      ]
    },
    {
      "cell_type": "code",
      "execution_count": 11,
      "id": "df54025a",
      "metadata": {
        "colab": {
          "base_uri": "https://localhost:8080/"
        },
        "id": "df54025a",
        "outputId": "02045ce5-32e3-489b-99f0-80038ef22e22"
      },
      "outputs": [
        {
          "output_type": "execute_result",
          "data": {
            "text/plain": [
              "array([0., 0., 0., 0., 0., 0., 0., 0., 0., 0.])"
            ]
          },
          "metadata": {},
          "execution_count": 11
        }
      ],
      "source": [
        "arr=np.zeros(10)\n",
        "arr"
      ]
    },
    {
      "cell_type": "markdown",
      "id": "95ee9e07",
      "metadata": {
        "id": "95ee9e07"
      },
      "source": [
        "#### 4. How to find the memory size of any array (★☆☆)"
      ]
    },
    {
      "cell_type": "code",
      "execution_count": 12,
      "id": "5c5b0950",
      "metadata": {
        "colab": {
          "base_uri": "https://localhost:8080/"
        },
        "id": "5c5b0950",
        "outputId": "aa3b6e00-cf74-4c3c-9589-22da89fe0986"
      },
      "outputs": [
        {
          "output_type": "stream",
          "name": "stdout",
          "text": [
            "40\n"
          ]
        }
      ],
      "source": [
        "arr=np.array([1,2,3,4,5])\n",
        "print(arr.nbytes)"
      ]
    },
    {
      "cell_type": "markdown",
      "id": "45fca154",
      "metadata": {
        "id": "45fca154"
      },
      "source": [
        "#### 5. How to get the documentation of the numpy add function from the command line? (★☆☆)"
      ]
    },
    {
      "cell_type": "code",
      "execution_count": 13,
      "id": "fcb1248a",
      "metadata": {
        "colab": {
          "base_uri": "https://localhost:8080/"
        },
        "id": "fcb1248a",
        "outputId": "03fafcd3-82f4-42c7-b879-bc9b1642575e"
      },
      "outputs": [
        {
          "output_type": "stream",
          "name": "stdout",
          "text": [
            "Help on ufunc:\n",
            "\n",
            "add = <ufunc 'add'>\n",
            "    add(x1, x2, /, out=None, *, where=True, casting='same_kind', order='K', dtype=None, subok=True[, signature, extobj])\n",
            "    \n",
            "    Add arguments element-wise.\n",
            "    \n",
            "    Parameters\n",
            "    ----------\n",
            "    x1, x2 : array_like\n",
            "        The arrays to be added.\n",
            "        If ``x1.shape != x2.shape``, they must be broadcastable to a common\n",
            "        shape (which becomes the shape of the output).\n",
            "    out : ndarray, None, or tuple of ndarray and None, optional\n",
            "        A location into which the result is stored. If provided, it must have\n",
            "        a shape that the inputs broadcast to. If not provided or None,\n",
            "        a freshly-allocated array is returned. A tuple (possible only as a\n",
            "        keyword argument) must have length equal to the number of outputs.\n",
            "    where : array_like, optional\n",
            "        This condition is broadcast over the input. At locations where the\n",
            "        condition is True, the `out` array will be set to the ufunc result.\n",
            "        Elsewhere, the `out` array will retain its original value.\n",
            "        Note that if an uninitialized `out` array is created via the default\n",
            "        ``out=None``, locations within it where the condition is False will\n",
            "        remain uninitialized.\n",
            "    **kwargs\n",
            "        For other keyword-only arguments, see the\n",
            "        :ref:`ufunc docs <ufuncs.kwargs>`.\n",
            "    \n",
            "    Returns\n",
            "    -------\n",
            "    add : ndarray or scalar\n",
            "        The sum of `x1` and `x2`, element-wise.\n",
            "        This is a scalar if both `x1` and `x2` are scalars.\n",
            "    \n",
            "    Notes\n",
            "    -----\n",
            "    Equivalent to `x1` + `x2` in terms of array broadcasting.\n",
            "    \n",
            "    Examples\n",
            "    --------\n",
            "    >>> np.add(1.0, 4.0)\n",
            "    5.0\n",
            "    >>> x1 = np.arange(9.0).reshape((3, 3))\n",
            "    >>> x2 = np.arange(3.0)\n",
            "    >>> np.add(x1, x2)\n",
            "    array([[  0.,   2.,   4.],\n",
            "           [  3.,   5.,   7.],\n",
            "           [  6.,   8.,  10.]])\n",
            "    \n",
            "    The ``+`` operator can be used as a shorthand for ``np.add`` on ndarrays.\n",
            "    \n",
            "    >>> x1 = np.arange(9.0).reshape((3, 3))\n",
            "    >>> x2 = np.arange(3.0)\n",
            "    >>> x1 + x2\n",
            "    array([[ 0.,  2.,  4.],\n",
            "           [ 3.,  5.,  7.],\n",
            "           [ 6.,  8., 10.]])\n",
            "\n"
          ]
        }
      ],
      "source": [
        "help(np.add)"
      ]
    },
    {
      "cell_type": "markdown",
      "id": "674e8019",
      "metadata": {
        "id": "674e8019"
      },
      "source": [
        "#### 6. Create a null vector of size 10 but the fifth value which is 1 (★☆☆)"
      ]
    },
    {
      "cell_type": "code",
      "execution_count": 16,
      "id": "452df2a7",
      "metadata": {
        "colab": {
          "base_uri": "https://localhost:8080/"
        },
        "id": "452df2a7",
        "outputId": "ff6dd306-2250-4081-a9c7-5302a5de4b50"
      },
      "outputs": [
        {
          "output_type": "stream",
          "name": "stdout",
          "text": [
            "[0. 0. 0. 0. 1. 0. 0. 0. 0. 0.]\n"
          ]
        }
      ],
      "source": [
        "arr = np.zeros(10)\n",
        "arr[4] = 1\n",
        "\n",
        "print(arr)\n"
      ]
    },
    {
      "cell_type": "markdown",
      "id": "7685e337",
      "metadata": {
        "id": "7685e337"
      },
      "source": [
        "#### 7. Create a vector with values ranging from 10 to 49 (★☆☆)"
      ]
    },
    {
      "cell_type": "code",
      "execution_count": 17,
      "id": "10847d11",
      "metadata": {
        "colab": {
          "base_uri": "https://localhost:8080/"
        },
        "id": "10847d11",
        "outputId": "8a545e06-a920-44fb-ecf0-c0ee09c2835a"
      },
      "outputs": [
        {
          "output_type": "stream",
          "name": "stdout",
          "text": [
            "[10 11 12 13 14 15 16 17 18 19 20 21 22 23 24 25 26 27 28 29 30 31 32 33\n",
            " 34 35 36 37 38 39 40 41 42 43 44 45 46 47 48 49]\n"
          ]
        }
      ],
      "source": [
        "arr = np.arange(10, 50)\n",
        "print(arr)\n"
      ]
    },
    {
      "cell_type": "markdown",
      "id": "54c913ba",
      "metadata": {
        "id": "54c913ba"
      },
      "source": [
        "#### 8. Reverse a vector (first element becomes last) (★☆☆)"
      ]
    },
    {
      "cell_type": "code",
      "execution_count": 18,
      "id": "34722e83",
      "metadata": {
        "colab": {
          "base_uri": "https://localhost:8080/"
        },
        "id": "34722e83",
        "outputId": "2f5c8559-d375-4d4e-a9b0-569cfb7bab40"
      },
      "outputs": [
        {
          "output_type": "stream",
          "name": "stdout",
          "text": [
            "[49 48 47 46 45 44 43 42 41 40 39 38 37 36 35 34 33 32 31 30 29 28 27 26\n",
            " 25 24 23 22 21 20 19 18 17 16 15 14 13 12 11 10]\n"
          ]
        }
      ],
      "source": [
        "arr = np.arange(10, 50)\n",
        "arr = arr[::-1]\n",
        "print(arr)\n"
      ]
    },
    {
      "cell_type": "markdown",
      "id": "8e72fd08",
      "metadata": {
        "id": "8e72fd08"
      },
      "source": [
        "#### 9. Create a 3x3 matrix with values ranging from 0 to 8 (★☆☆)"
      ]
    },
    {
      "cell_type": "code",
      "execution_count": 19,
      "id": "e18eef56",
      "metadata": {
        "colab": {
          "base_uri": "https://localhost:8080/"
        },
        "id": "e18eef56",
        "outputId": "a75bfa6e-1307-42bb-fd6c-6ba61774cdab"
      },
      "outputs": [
        {
          "output_type": "stream",
          "name": "stdout",
          "text": [
            "[[0 1 2]\n",
            " [3 4 5]\n",
            " [6 7 8]]\n"
          ]
        }
      ],
      "source": [
        "arr = np.arange(9).reshape(3, 3)\n",
        "print(arr)\n"
      ]
    },
    {
      "cell_type": "markdown",
      "id": "088424fc",
      "metadata": {
        "id": "088424fc"
      },
      "source": [
        "#### 10. Find indices of non-zero elements from [1,2,0,0,4,0] (★☆☆)"
      ]
    },
    {
      "cell_type": "code",
      "execution_count": 20,
      "id": "9a402d06",
      "metadata": {
        "colab": {
          "base_uri": "https://localhost:8080/"
        },
        "id": "9a402d06",
        "outputId": "187bb9bd-6779-4457-c2f8-b147bb651ca0"
      },
      "outputs": [
        {
          "output_type": "stream",
          "name": "stdout",
          "text": [
            "(array([0, 1, 4]),)\n"
          ]
        }
      ],
      "source": [
        "arr = np.array([1, 2, 0, 0, 4, 0])\n",
        "indices = np.nonzero(arr)\n",
        "print(indices)\n"
      ]
    },
    {
      "cell_type": "markdown",
      "id": "3f347de9",
      "metadata": {
        "id": "3f347de9"
      },
      "source": [
        "#### 11. Create a 3x3 identity matrix (★☆☆)"
      ]
    },
    {
      "cell_type": "code",
      "execution_count": 21,
      "id": "e38459c2",
      "metadata": {
        "colab": {
          "base_uri": "https://localhost:8080/"
        },
        "id": "e38459c2",
        "outputId": "4235d2e8-ac5b-4565-d8cc-fa36a787178f"
      },
      "outputs": [
        {
          "output_type": "stream",
          "name": "stdout",
          "text": [
            "[[1. 0. 0.]\n",
            " [0. 1. 0.]\n",
            " [0. 0. 1.]]\n"
          ]
        }
      ],
      "source": [
        "arr = np.eye(3)\n",
        "print(arr)\n"
      ]
    },
    {
      "cell_type": "markdown",
      "id": "24e98f25",
      "metadata": {
        "id": "24e98f25"
      },
      "source": [
        "#### 12. Create a 3x3x3 array with random values (★☆☆)"
      ]
    },
    {
      "cell_type": "code",
      "execution_count": 23,
      "id": "94752bb3",
      "metadata": {
        "colab": {
          "base_uri": "https://localhost:8080/"
        },
        "id": "94752bb3",
        "outputId": "ec1e9349-f973-4d73-d40b-3247e374d9a6"
      },
      "outputs": [
        {
          "output_type": "stream",
          "name": "stdout",
          "text": [
            "[[[0.51809028 0.05610465 0.53557384]\n",
            "  [0.83848817 0.82950106 0.61304821]\n",
            "  [0.17381469 0.4313463  0.83274121]]\n",
            "\n",
            " [[0.64063341 0.04018749 0.02740045]\n",
            "  [0.18215689 0.46042241 0.42830463]\n",
            "  [0.1370886  0.96126008 0.88971489]]\n",
            "\n",
            " [[0.48729582 0.87008736 0.15849781]\n",
            "  [0.32504582 0.48241287 0.52419527]\n",
            "  [0.27248704 0.47218434 0.75064657]]]\n"
          ]
        }
      ],
      "source": [
        "arr = np.random.random((3, 3, 3))\n",
        "print(arr)\n"
      ]
    },
    {
      "cell_type": "markdown",
      "id": "7cbca2cc",
      "metadata": {
        "id": "7cbca2cc"
      },
      "source": [
        "#### 13. Create a 10x10 array with random values and find the minimum and maximum values (★☆☆)"
      ]
    },
    {
      "cell_type": "code",
      "execution_count": 25,
      "id": "c0643b1f",
      "metadata": {
        "colab": {
          "base_uri": "https://localhost:8080/"
        },
        "id": "c0643b1f",
        "outputId": "34a27a59-ab12-4316-8ea8-25edfed1330d"
      },
      "outputs": [
        {
          "output_type": "stream",
          "name": "stdout",
          "text": [
            "Min: 0.016851003868954995 Max: 0.9846479115209118\n"
          ]
        }
      ],
      "source": [
        "arr = np.random.random((10, 10))\n",
        "print(\"Min:\", arr.min(), \"Max:\", arr.max())\n"
      ]
    },
    {
      "cell_type": "markdown",
      "id": "6cab4cbb",
      "metadata": {
        "id": "6cab4cbb"
      },
      "source": [
        "#### 14. Create a random vector of size 30 and find the mean value (★☆☆)"
      ]
    },
    {
      "cell_type": "code",
      "execution_count": 26,
      "id": "e922a524",
      "metadata": {
        "colab": {
          "base_uri": "https://localhost:8080/"
        },
        "id": "e922a524",
        "outputId": "8a206762-c1c6-43c4-a4b0-58ab0c662e5e"
      },
      "outputs": [
        {
          "output_type": "stream",
          "name": "stdout",
          "text": [
            "Mean: 0.5000548125249212\n"
          ]
        }
      ],
      "source": [
        "arr = np.random.random(30)\n",
        "print(\"Mean:\", arr.mean())\n"
      ]
    },
    {
      "cell_type": "markdown",
      "id": "72053be8",
      "metadata": {
        "id": "72053be8"
      },
      "source": [
        "#### 15. Create a 2d array with 1 on the border and 0 inside (★☆☆)"
      ]
    },
    {
      "cell_type": "code",
      "execution_count": 27,
      "id": "6bc84dfe",
      "metadata": {
        "colab": {
          "base_uri": "https://localhost:8080/"
        },
        "id": "6bc84dfe",
        "outputId": "e1213d67-a13d-40f4-cbec-03ba6eb6a56b"
      },
      "outputs": [
        {
          "output_type": "stream",
          "name": "stdout",
          "text": [
            "[[1. 1. 1. 1. 1.]\n",
            " [1. 0. 0. 0. 1.]\n",
            " [1. 0. 0. 0. 1.]\n",
            " [1. 0. 0. 0. 1.]\n",
            " [1. 1. 1. 1. 1.]]\n"
          ]
        }
      ],
      "source": [
        "arr = np.ones((5, 5))\n",
        "arr[1:-1, 1:-1] = 0\n",
        "print(arr)\n"
      ]
    },
    {
      "cell_type": "markdown",
      "id": "86b0206b",
      "metadata": {
        "id": "86b0206b"
      },
      "source": [
        "#### 16. How to add a border (filled with 0's) around an existing array? (★☆☆)"
      ]
    },
    {
      "cell_type": "code",
      "execution_count": 28,
      "id": "41e66e3e",
      "metadata": {
        "colab": {
          "base_uri": "https://localhost:8080/"
        },
        "id": "41e66e3e",
        "outputId": "6cf3cf2a-757e-494d-fca1-6428ac3749e6"
      },
      "outputs": [
        {
          "output_type": "stream",
          "name": "stdout",
          "text": [
            "[[0. 0. 0. 0. 0.]\n",
            " [0. 1. 1. 1. 0.]\n",
            " [0. 1. 1. 1. 0.]\n",
            " [0. 1. 1. 1. 0.]\n",
            " [0. 0. 0. 0. 0.]]\n"
          ]
        }
      ],
      "source": [
        "arr = np.ones((3, 3))\n",
        "arr = np.pad(arr, pad_width=1, mode='constant', constant_values=0)\n",
        "print(arr)\n"
      ]
    },
    {
      "cell_type": "markdown",
      "id": "98a45574",
      "metadata": {
        "id": "98a45574"
      },
      "source": [
        "#### 17. What is the result of the following expression? (★☆☆)\n",
        "```python\n",
        "0 * np.nan\n",
        "np.nan == np.nan\n",
        "np.inf > np.nan\n",
        "np.nan - np.nan\n",
        "np.nan in set([np.nan])\n",
        "0.3 == 3 * 0.1\n",
        "```"
      ]
    },
    {
      "cell_type": "code",
      "execution_count": 29,
      "id": "7eb533d5",
      "metadata": {
        "colab": {
          "base_uri": "https://localhost:8080/"
        },
        "id": "7eb533d5",
        "outputId": "3976efb7-f363-4093-eade-45577c91bcf4"
      },
      "outputs": [
        {
          "output_type": "stream",
          "name": "stdout",
          "text": [
            "nan\n",
            "False\n",
            "False\n",
            "nan\n",
            "True\n",
            "False\n"
          ]
        }
      ],
      "source": [
        "print(0 * np.nan)\n",
        "print(np.nan == np.nan)\n",
        "print(np.inf > np.nan)\n",
        "print(np.nan - np.nan)\n",
        "print(np.nan in set([np.nan]))\n",
        "print(0.3 == 3 * 0.1)"
      ]
    },
    {
      "cell_type": "markdown",
      "id": "1486619a",
      "metadata": {
        "id": "1486619a"
      },
      "source": [
        "#### 18. Create a 5x5 matrix with values 1,2,3,4 just below the diagonal (★☆☆)"
      ]
    },
    {
      "cell_type": "code",
      "execution_count": 30,
      "id": "2b9fb59c",
      "metadata": {
        "colab": {
          "base_uri": "https://localhost:8080/"
        },
        "id": "2b9fb59c",
        "outputId": "c30046a6-4af6-4824-8999-9716783672d6"
      },
      "outputs": [
        {
          "output_type": "stream",
          "name": "stdout",
          "text": [
            "[[0 0 0 0 0]\n",
            " [1 0 0 0 0]\n",
            " [0 2 0 0 0]\n",
            " [0 0 3 0 0]\n",
            " [0 0 0 4 0]]\n"
          ]
        }
      ],
      "source": [
        "arr = np.diag(np.arange(1, 5), k=-1)\n",
        "print(arr)\n"
      ]
    },
    {
      "cell_type": "markdown",
      "id": "319287fd",
      "metadata": {
        "id": "319287fd"
      },
      "source": [
        "#### 19. Create a 8x8 matrix and fill it with a checkerboard pattern (★☆☆)"
      ]
    },
    {
      "cell_type": "code",
      "execution_count": 31,
      "id": "299f5e60",
      "metadata": {
        "colab": {
          "base_uri": "https://localhost:8080/"
        },
        "id": "299f5e60",
        "outputId": "0d3734e3-2d8b-49bf-9fba-8db0717d55d6"
      },
      "outputs": [
        {
          "output_type": "stream",
          "name": "stdout",
          "text": [
            "[[0 1 0 1 0 1 0 1]\n",
            " [1 0 1 0 1 0 1 0]\n",
            " [0 1 0 1 0 1 0 1]\n",
            " [1 0 1 0 1 0 1 0]\n",
            " [0 1 0 1 0 1 0 1]\n",
            " [1 0 1 0 1 0 1 0]\n",
            " [0 1 0 1 0 1 0 1]\n",
            " [1 0 1 0 1 0 1 0]]\n"
          ]
        }
      ],
      "source": [
        "arr = np.zeros((8, 8), dtype=int)\n",
        "arr[1::2, ::2] = 1\n",
        "arr[::2, 1::2] = 1\n",
        "print(arr)\n"
      ]
    },
    {
      "cell_type": "markdown",
      "id": "fb1686ed",
      "metadata": {
        "id": "fb1686ed"
      },
      "source": [
        "#### 20. Consider a (6,7,8) shape array, what is the index (x,y,z) of the 100th element? (★☆☆)"
      ]
    },
    {
      "cell_type": "code",
      "execution_count": 32,
      "id": "22888cc4",
      "metadata": {
        "colab": {
          "base_uri": "https://localhost:8080/"
        },
        "id": "22888cc4",
        "outputId": "85666fb8-8db1-47d3-9ef2-c658e6e6b1d3"
      },
      "outputs": [
        {
          "output_type": "stream",
          "name": "stdout",
          "text": [
            "(1, 5, 4)\n"
          ]
        }
      ],
      "source": [
        "print(np.unravel_index(100, (6, 7, 8)))\n"
      ]
    },
    {
      "cell_type": "markdown",
      "id": "137ea278",
      "metadata": {
        "id": "137ea278"
      },
      "source": [
        "#### 21. Create a checkerboard 8x8 matrix using the tile function (★☆☆)"
      ]
    },
    {
      "cell_type": "code",
      "execution_count": 33,
      "id": "9cb81fe1",
      "metadata": {
        "colab": {
          "base_uri": "https://localhost:8080/"
        },
        "id": "9cb81fe1",
        "outputId": "a982c5d4-8ea6-4b96-fd01-c4cf5cb5826f"
      },
      "outputs": [
        {
          "output_type": "stream",
          "name": "stdout",
          "text": [
            "[[0 1 0 1 0 1 0 1]\n",
            " [1 0 1 0 1 0 1 0]\n",
            " [0 1 0 1 0 1 0 1]\n",
            " [1 0 1 0 1 0 1 0]\n",
            " [0 1 0 1 0 1 0 1]\n",
            " [1 0 1 0 1 0 1 0]\n",
            " [0 1 0 1 0 1 0 1]\n",
            " [1 0 1 0 1 0 1 0]]\n"
          ]
        }
      ],
      "source": [
        "arr = np.tile([[0, 1], [1, 0]], (4, 4))\n",
        "print(arr)\n"
      ]
    },
    {
      "cell_type": "markdown",
      "id": "9319f5a1",
      "metadata": {
        "id": "9319f5a1"
      },
      "source": [
        "#### 22. Normalize a 5x5 random matrix (★☆☆)"
      ]
    },
    {
      "cell_type": "code",
      "execution_count": 34,
      "id": "fcdc0459",
      "metadata": {
        "colab": {
          "base_uri": "https://localhost:8080/"
        },
        "id": "fcdc0459",
        "outputId": "e7ee7573-e6ae-4004-da3f-87562dd5982b"
      },
      "outputs": [
        {
          "output_type": "stream",
          "name": "stdout",
          "text": [
            "[[0.3227102  0.67750986 0.75708503 0.18585462 0.5127887 ]\n",
            " [0.08747606 0.77286014 1.         0.12878503 0.52090155]\n",
            " [0.06131677 0.85969467 0.19185052 0.97141943 0.6098651 ]\n",
            " [0.25922239 0.29131268 0.         0.04429994 0.54096276]\n",
            " [0.30932345 0.44381145 0.17037076 0.14409975 0.61691986]]\n"
          ]
        }
      ],
      "source": [
        "arr = np.random.random((5, 5))\n",
        "arr = (arr - arr.min()) / (arr.max() - arr.min())\n",
        "print(arr)\n"
      ]
    },
    {
      "cell_type": "markdown",
      "id": "f1902fef",
      "metadata": {
        "id": "f1902fef"
      },
      "source": [
        "#### 23. Create a custom dtype that describes a color as four unsigned bytes (RGBA) (★☆☆)"
      ]
    },
    {
      "cell_type": "code",
      "execution_count": 35,
      "id": "7445cb2d",
      "metadata": {
        "colab": {
          "base_uri": "https://localhost:8080/"
        },
        "id": "7445cb2d",
        "outputId": "c3ba0520-0d1e-4b75-8222-dc9e7f087bf1"
      },
      "outputs": [
        {
          "output_type": "stream",
          "name": "stdout",
          "text": [
            "[('r', 'u1'), ('g', 'u1'), ('b', 'u1'), ('a', 'u1')]\n"
          ]
        }
      ],
      "source": [
        "color = np.dtype([(\"r\", np.ubyte), (\"g\", np.ubyte), (\"b\", np.ubyte), (\"a\", np.ubyte)])\n",
        "print(color)\n"
      ]
    },
    {
      "cell_type": "markdown",
      "id": "3f34bd2a",
      "metadata": {
        "id": "3f34bd2a"
      },
      "source": [
        "#### 24. Multiply a 5x3 matrix by a 3x2 matrix (real matrix product) (★☆☆)"
      ]
    },
    {
      "cell_type": "code",
      "execution_count": 36,
      "id": "ec8bd6da",
      "metadata": {
        "colab": {
          "base_uri": "https://localhost:8080/"
        },
        "id": "ec8bd6da",
        "outputId": "3999ea56-a333-45fd-9447-6d4938cd6984"
      },
      "outputs": [
        {
          "output_type": "stream",
          "name": "stdout",
          "text": [
            "[[0.67865637 0.41893567]\n",
            " [0.89691395 0.83000969]\n",
            " [0.51494067 0.31468628]\n",
            " [1.53810062 1.00862243]\n",
            " [0.51652553 0.52669017]]\n"
          ]
        }
      ],
      "source": [
        "A = np.random.random((5, 3))\n",
        "B = np.random.random((3, 2))\n",
        "result = np.dot(A, B)\n",
        "print(result)\n"
      ]
    },
    {
      "cell_type": "markdown",
      "id": "b1919ba3",
      "metadata": {
        "id": "b1919ba3"
      },
      "source": [
        "#### 25. Given a 1D array, negate all elements which are between 3 and 8, in place. (★☆☆)"
      ]
    },
    {
      "cell_type": "code",
      "execution_count": 37,
      "id": "5b63b63b",
      "metadata": {
        "colab": {
          "base_uri": "https://localhost:8080/"
        },
        "id": "5b63b63b",
        "outputId": "fc97ff91-ee5d-45e8-e29a-f14bb102946d"
      },
      "outputs": [
        {
          "output_type": "stream",
          "name": "stdout",
          "text": [
            "[ 0  1  2 -3 -4 -5 -6 -7 -8  9]\n"
          ]
        }
      ],
      "source": [
        "arr = np.arange(10)\n",
        "arr[(arr >= 3) & (arr <= 8)] *= -1\n",
        "print(arr)\n"
      ]
    },
    {
      "cell_type": "markdown",
      "id": "fb1daa27",
      "metadata": {
        "id": "fb1daa27"
      },
      "source": [
        "#### 26. What is the output of the following script? (★☆☆)\n",
        "```python\n",
        "# Author: Jake VanderPlas\n",
        "\n",
        "print(sum(range(5),-1))\n",
        "from numpy import *\n",
        "print(sum(range(5),-1))\n",
        "```"
      ]
    },
    {
      "cell_type": "code",
      "execution_count": 38,
      "id": "52a34d3d",
      "metadata": {
        "colab": {
          "base_uri": "https://localhost:8080/"
        },
        "id": "52a34d3d",
        "outputId": "e8e08407-ad81-4bde-cfb4-76bbf8144bf0"
      },
      "outputs": [
        {
          "output_type": "stream",
          "name": "stdout",
          "text": [
            "9\n",
            "10\n"
          ]
        }
      ],
      "source": [
        "print(sum(range(5), -1))  # 9\n",
        "from numpy import *\n",
        "print(sum(range(5), -1))  # [0 1 2 3 4]\n"
      ]
    },
    {
      "cell_type": "markdown",
      "id": "89b7e7a7",
      "metadata": {
        "id": "89b7e7a7"
      },
      "source": [
        "#### 27. Consider an integer vector Z, which of these expressions are legal? (★☆☆)\n",
        "```python\n",
        "Z**Z\n",
        "2 << Z >> 2\n",
        "Z <- Z\n",
        "1j*Z\n",
        "Z/1/1\n",
        "Z<Z>Z\n",
        "```"
      ]
    },
    {
      "cell_type": "code",
      "execution_count": 39,
      "id": "451181cf",
      "metadata": {
        "colab": {
          "base_uri": "https://localhost:8080/"
        },
        "id": "451181cf",
        "outputId": "fabc2207-d28b-41b9-9879-9ac85ef38173"
      },
      "outputs": [
        {
          "output_type": "stream",
          "name": "stdout",
          "text": [
            "[  1   1   4  27 256]\n",
            "[0 1 2 4 8]\n",
            "[False False False False False]\n",
            "[0.+0.j 0.+1.j 0.+2.j 0.+3.j 0.+4.j]\n",
            "[0. 1. 2. 3. 4.]\n"
          ]
        }
      ],
      "source": [
        "Z = np.arange(5)\n",
        "print(Z ** Z)  # Legal\n",
        "print(2 << Z >> 2)  # Legal\n",
        "print(Z < -Z)  # Legal\n",
        "print(1j * Z)  # Legal\n",
        "print(Z / 1 / 1)  # Legal\n",
        "# print(Z < Z > Z)  # Illegal\n"
      ]
    },
    {
      "cell_type": "markdown",
      "id": "8c7601c6",
      "metadata": {
        "id": "8c7601c6"
      },
      "source": [
        "#### 28. What are the result of the following expressions? (★☆☆)\n",
        "```python\n",
        "np.array(0) / np.array(0)\n",
        "np.array(0) // np.array(0)\n",
        "np.array([np.nan]).astype(int).astype(float)\n",
        "```"
      ]
    },
    {
      "cell_type": "code",
      "execution_count": 40,
      "id": "52983a0b",
      "metadata": {
        "colab": {
          "base_uri": "https://localhost:8080/"
        },
        "id": "52983a0b",
        "outputId": "e3d9894c-25a5-4eac-8bdf-3e12f5d7f35f"
      },
      "outputs": [
        {
          "output_type": "stream",
          "name": "stdout",
          "text": [
            "nan\n",
            "0\n",
            "[-9.22337204e+18]\n"
          ]
        },
        {
          "output_type": "stream",
          "name": "stderr",
          "text": [
            "<ipython-input-40-bc2611449961>:1: RuntimeWarning: invalid value encountered in divide\n",
            "  print(np.array(0) / np.array(0))  # nan\n",
            "<ipython-input-40-bc2611449961>:2: RuntimeWarning: divide by zero encountered in floor_divide\n",
            "  print(np.array(0) // np.array(0))  # RuntimeWarning\n",
            "<ipython-input-40-bc2611449961>:3: RuntimeWarning: invalid value encountered in cast\n",
            "  print(np.array([np.nan]).astype(int).astype(float))  # [-9.22337204e+18] (system-dependent)\n"
          ]
        }
      ],
      "source": [
        "print(np.array(0) / np.array(0))  # nan\n",
        "print(np.array(0) // np.array(0))  # RuntimeWarning\n",
        "print(np.array([np.nan]).astype(int).astype(float))  # [-9.22337204e+18] (system-dependent)\n"
      ]
    },
    {
      "cell_type": "markdown",
      "id": "06c9164d",
      "metadata": {
        "id": "06c9164d"
      },
      "source": [
        "#### 29. How to round away from zero a float array ? (★☆☆)"
      ]
    },
    {
      "cell_type": "code",
      "execution_count": 41,
      "id": "4cce0af8",
      "metadata": {
        "colab": {
          "base_uri": "https://localhost:8080/"
        },
        "id": "4cce0af8",
        "outputId": "688107d6-9cad-4115-d083-c05191f44764"
      },
      "outputs": [
        {
          "output_type": "stream",
          "name": "stdout",
          "text": [
            "[3 4 5]\n"
          ]
        }
      ],
      "source": [
        "arr1 = np.array([1, 2, 3, 4, 5])\n",
        "arr2 = np.array([3, 4, 5, 6, 7])\n",
        "print(np.intersect1d(arr1, arr2))\n"
      ]
    },
    {
      "cell_type": "markdown",
      "id": "52235994",
      "metadata": {
        "id": "52235994"
      },
      "source": [
        "#### 30. How to find common values between two arrays? (★☆☆)"
      ]
    },
    {
      "cell_type": "code",
      "execution_count": 42,
      "id": "27eff6b1",
      "metadata": {
        "colab": {
          "base_uri": "https://localhost:8080/"
        },
        "id": "27eff6b1",
        "outputId": "39f05ad1-db74-4dd3-b7e7-bba120833201"
      },
      "outputs": [
        {
          "output_type": "stream",
          "name": "stdout",
          "text": [
            "[3 4 5]\n"
          ]
        }
      ],
      "source": [
        "arr1 = np.array([1, 2, 3, 4, 5])\n",
        "arr2 = np.array([3, 4, 5, 6, 7])\n",
        "print(np.intersect1d(arr1, arr2))\n"
      ]
    },
    {
      "cell_type": "markdown",
      "id": "7e6f7d78",
      "metadata": {
        "id": "7e6f7d78"
      },
      "source": [
        "#### 31. How to ignore all numpy warnings (not recommended)? (★☆☆)"
      ]
    },
    {
      "cell_type": "code",
      "execution_count": 43,
      "id": "1bdde6e1",
      "metadata": {
        "id": "1bdde6e1"
      },
      "outputs": [],
      "source": [
        "import warnings\n",
        "warnings.filterwarnings(\"ignore\")\n"
      ]
    },
    {
      "cell_type": "markdown",
      "id": "b001277e",
      "metadata": {
        "id": "b001277e"
      },
      "source": [
        "#### 32. Is the following expressions true? (★☆☆)\n",
        "```python\n",
        "np.sqrt(-1) == np.emath.sqrt(-1)\n",
        "```"
      ]
    },
    {
      "cell_type": "code",
      "execution_count": 44,
      "id": "d8673bdf",
      "metadata": {
        "colab": {
          "base_uri": "https://localhost:8080/"
        },
        "id": "d8673bdf",
        "outputId": "5e32ddbf-e669-4319-edb4-2bfc8ed509c7"
      },
      "outputs": [
        {
          "output_type": "stream",
          "name": "stdout",
          "text": [
            "False\n"
          ]
        }
      ],
      "source": [
        "print(np.sqrt(-1) == np.emath.sqrt(-1))\n"
      ]
    },
    {
      "cell_type": "markdown",
      "id": "b9a5ff84",
      "metadata": {
        "id": "b9a5ff84"
      },
      "source": [
        "#### 33. How to get the dates of yesterday, today and tomorrow? (★☆☆)"
      ]
    },
    {
      "cell_type": "code",
      "execution_count": 45,
      "id": "f33f9cc2",
      "metadata": {
        "colab": {
          "base_uri": "https://localhost:8080/"
        },
        "id": "f33f9cc2",
        "outputId": "ade96407-96d5-498b-a094-e38bd94196b3"
      },
      "outputs": [
        {
          "output_type": "stream",
          "name": "stdout",
          "text": [
            "2025-03-08 2025-03-09 2025-03-10\n"
          ]
        }
      ],
      "source": [
        "today = np.datetime64('today', 'D')\n",
        "yesterday = today - np.timedelta64(1, 'D')\n",
        "tomorrow = today + np.timedelta64(1, 'D')\n",
        "print(yesterday, today, tomorrow)\n"
      ]
    },
    {
      "cell_type": "markdown",
      "id": "f8e96e58",
      "metadata": {
        "id": "f8e96e58"
      },
      "source": [
        "#### 34. How to get all the dates corresponding to the month of July 2016? (★★☆)"
      ]
    },
    {
      "cell_type": "code",
      "execution_count": 46,
      "id": "3927a8e8",
      "metadata": {
        "colab": {
          "base_uri": "https://localhost:8080/"
        },
        "id": "3927a8e8",
        "outputId": "58afed22-5995-46a9-d991-3db2250ffbf6"
      },
      "outputs": [
        {
          "output_type": "stream",
          "name": "stdout",
          "text": [
            "['2016-07-01' '2016-07-02' '2016-07-03' '2016-07-04' '2016-07-05'\n",
            " '2016-07-06' '2016-07-07' '2016-07-08' '2016-07-09' '2016-07-10'\n",
            " '2016-07-11' '2016-07-12' '2016-07-13' '2016-07-14' '2016-07-15'\n",
            " '2016-07-16' '2016-07-17' '2016-07-18' '2016-07-19' '2016-07-20'\n",
            " '2016-07-21' '2016-07-22' '2016-07-23' '2016-07-24' '2016-07-25'\n",
            " '2016-07-26' '2016-07-27' '2016-07-28' '2016-07-29' '2016-07-30'\n",
            " '2016-07-31']\n"
          ]
        }
      ],
      "source": [
        "dates = np.arange('2016-07', '2016-08', dtype='datetime64[D]')\n",
        "print(dates)\n"
      ]
    },
    {
      "cell_type": "markdown",
      "id": "557c163e",
      "metadata": {
        "id": "557c163e"
      },
      "source": [
        "#### 35. How to compute ((A+B)*(-A/2)) in place (without copy)? (★★☆)"
      ]
    },
    {
      "cell_type": "code",
      "execution_count": 48,
      "id": "3c2f59ac",
      "metadata": {
        "colab": {
          "base_uri": "https://localhost:8080/"
        },
        "id": "3c2f59ac",
        "outputId": "486f9858-cfa2-494f-cd19-a0d215140116"
      },
      "outputs": [
        {
          "output_type": "stream",
          "name": "stdout",
          "text": [
            "[2.25 2.25 2.25]\n"
          ]
        }
      ],
      "source": [
        "A = np.ones(3)\n",
        "B = np.ones(3) * 2\n",
        "np.add(A, B, out=A)\n",
        "np.divide(A, -2, out=A)\n",
        "np.multiply(A, A, out=A)\n",
        "print(A)\n"
      ]
    },
    {
      "cell_type": "markdown",
      "id": "14c05852",
      "metadata": {
        "id": "14c05852"
      },
      "source": [
        "#### 36. Extract the integer part of a random array of positive numbers using 4 different methods (★★☆)"
      ]
    },
    {
      "cell_type": "code",
      "execution_count": 49,
      "id": "8b7d2937",
      "metadata": {
        "colab": {
          "base_uri": "https://localhost:8080/"
        },
        "id": "8b7d2937",
        "outputId": "50f113cf-8ce8-436d-905c-0a9a368444c7"
      },
      "outputs": [
        {
          "output_type": "stream",
          "name": "stdout",
          "text": [
            "[5 2 7 8 1]\n",
            "[5. 2. 7. 8. 1.]\n",
            "[5. 2. 7. 8. 1.]\n",
            "[5. 2. 7. 8. 1.]\n"
          ]
        }
      ],
      "source": [
        "arr = np.random.uniform(0, 10, 5)\n",
        "print(arr.astype(int))\n",
        "print(np.floor(arr))\n",
        "print(np.ceil(arr) - 1)\n",
        "print(np.trunc(arr))\n"
      ]
    },
    {
      "cell_type": "markdown",
      "id": "003b8721",
      "metadata": {
        "id": "003b8721"
      },
      "source": [
        "#### 37. Create a 5x5 matrix with row values ranging from 0 to 4 (★★☆)"
      ]
    },
    {
      "cell_type": "code",
      "execution_count": 50,
      "id": "63c75db0",
      "metadata": {
        "colab": {
          "base_uri": "https://localhost:8080/"
        },
        "id": "63c75db0",
        "outputId": "fa24b429-1f5c-439f-a8ac-964cce1faa65"
      },
      "outputs": [
        {
          "output_type": "stream",
          "name": "stdout",
          "text": [
            "[[0 1 2 3 4]\n",
            " [0 1 2 3 4]\n",
            " [0 1 2 3 4]\n",
            " [0 1 2 3 4]\n",
            " [0 1 2 3 4]]\n"
          ]
        }
      ],
      "source": [
        "arr = np.tile(np.arange(5), (5, 1))\n",
        "print(arr)\n"
      ]
    },
    {
      "cell_type": "markdown",
      "id": "8e71dc21",
      "metadata": {
        "id": "8e71dc21"
      },
      "source": [
        "#### 38. Consider a generator function that generates 10 integers and use it to build an array (★☆☆)"
      ]
    },
    {
      "cell_type": "code",
      "execution_count": 51,
      "id": "f6aefd94",
      "metadata": {
        "colab": {
          "base_uri": "https://localhost:8080/"
        },
        "id": "f6aefd94",
        "outputId": "f73ea641-a634-4fa0-db83-a25ef7c385a3"
      },
      "outputs": [
        {
          "output_type": "stream",
          "name": "stdout",
          "text": [
            "[0 1 2 3 4 5 6 7 8 9]\n"
          ]
        }
      ],
      "source": [
        "def generate_numbers():\n",
        "    for i in range(10):\n",
        "        yield i\n",
        "numbers_array = np.array(list(generate_numbers()))\n",
        "\n",
        "print(numbers_array)"
      ]
    },
    {
      "cell_type": "markdown",
      "id": "b7f03449",
      "metadata": {
        "id": "b7f03449"
      },
      "source": [
        "#### 39. Create a vector of size 10 with values ranging from 0 to 1, both excluded (★★☆)"
      ]
    },
    {
      "cell_type": "code",
      "execution_count": 52,
      "id": "a27cd904",
      "metadata": {
        "colab": {
          "base_uri": "https://localhost:8080/"
        },
        "id": "a27cd904",
        "outputId": "5c018f5d-bf48-4520-8735-1c11c68fda9c"
      },
      "outputs": [
        {
          "output_type": "stream",
          "name": "stdout",
          "text": [
            "[0.16869094 0.25218799 0.4192136  0.21057599 0.52526765 0.25529586\n",
            " 0.62162235 0.77327959 0.54456097 0.97762812]\n"
          ]
        }
      ],
      "source": [
        "vector = np.random.uniform(0, 1, 10)\n",
        "print(vector)\n"
      ]
    },
    {
      "cell_type": "markdown",
      "id": "043156c5",
      "metadata": {
        "id": "043156c5"
      },
      "source": [
        "#### 40. Create a random vector of size 10 and sort it (★★☆)"
      ]
    },
    {
      "cell_type": "code",
      "execution_count": 58,
      "id": "6ae5eb58",
      "metadata": {
        "colab": {
          "base_uri": "https://localhost:8080/"
        },
        "id": "6ae5eb58",
        "outputId": "5319fa2a-62ca-463f-ff1e-1181c673ce7e"
      },
      "outputs": [
        {
          "output_type": "stream",
          "name": "stdout",
          "text": [
            "[1 2 2 5 6 6 8 9 9 9]\n"
          ]
        }
      ],
      "source": [
        "arr = np.random.randint(1, 11, 10)\n",
        "arr\n",
        "arr.sort()\n",
        "print(arr)"
      ]
    },
    {
      "cell_type": "markdown",
      "id": "4f7e8f3f",
      "metadata": {
        "id": "4f7e8f3f"
      },
      "source": [
        "#### 41. How to sum a small array faster than np.sum? (★★☆)"
      ]
    },
    {
      "cell_type": "code",
      "execution_count": 59,
      "id": "88790af3",
      "metadata": {
        "colab": {
          "base_uri": "https://localhost:8080/"
        },
        "id": "88790af3",
        "outputId": "bc762119-cefe-4ba4-859d-5d36817d902a"
      },
      "outputs": [
        {
          "output_type": "stream",
          "name": "stdout",
          "text": [
            "15\n"
          ]
        }
      ],
      "source": [
        "arr = np.array([1, 2, 3, 4, 5])\n",
        "result = sum(arr)\n",
        "print(result)\n"
      ]
    },
    {
      "cell_type": "markdown",
      "id": "13d1ca52",
      "metadata": {
        "id": "13d1ca52"
      },
      "source": [
        "#### 42. Consider two random array A and B, check if they are equal (★★☆)"
      ]
    },
    {
      "cell_type": "code",
      "execution_count": 60,
      "id": "ca6dd579",
      "metadata": {
        "colab": {
          "base_uri": "https://localhost:8080/"
        },
        "id": "ca6dd579",
        "outputId": "d7f672ec-973e-4534-efbb-339ef2b6d008"
      },
      "outputs": [
        {
          "output_type": "stream",
          "name": "stdout",
          "text": [
            "False\n"
          ]
        }
      ],
      "source": [
        "a=np.random.random(2)\n",
        "b=np.random.random(2)\n",
        "print(np.array_equal(a,b))"
      ]
    },
    {
      "cell_type": "markdown",
      "id": "cf7cca6d",
      "metadata": {
        "id": "cf7cca6d"
      },
      "source": [
        "#### 43. Make an array immutable (read-only) (★★☆)"
      ]
    },
    {
      "cell_type": "code",
      "execution_count": 61,
      "id": "cbbb8917",
      "metadata": {
        "colab": {
          "base_uri": "https://localhost:8080/"
        },
        "id": "cbbb8917",
        "outputId": "c442e832-08ca-4513-8982-07e24ecde698"
      },
      "outputs": [
        {
          "output_type": "stream",
          "name": "stdout",
          "text": [
            "[1 2 3 4 5]\n"
          ]
        }
      ],
      "source": [
        "import numpy as np\n",
        "\n",
        "arr = np.array([1, 2, 3, 4, 5])\n",
        "arr.flags.writeable = False\n",
        "\n",
        "print(arr)\n"
      ]
    },
    {
      "cell_type": "markdown",
      "id": "37b0828f",
      "metadata": {
        "id": "37b0828f"
      },
      "source": [
        "#### 44. Consider a random 10x2 matrix representing cartesian coordinates, convert them to polar coordinates (★★☆)"
      ]
    },
    {
      "cell_type": "code",
      "execution_count": 62,
      "id": "a89969af",
      "metadata": {
        "colab": {
          "base_uri": "https://localhost:8080/"
        },
        "id": "a89969af",
        "outputId": "d47d3536-070c-491f-ec75-5d5515f458bf"
      },
      "outputs": [
        {
          "output_type": "stream",
          "name": "stdout",
          "text": [
            "[[0.75978919 1.02793221]\n",
            " [0.23013309 0.90676906]\n",
            " [0.68853915 1.35709552]\n",
            " [1.09823816 1.14302454]\n",
            " [1.16737035 0.94965155]\n",
            " [0.65885523 1.34019157]\n",
            " [1.13456473 1.04716646]\n",
            " [0.99279787 1.56948824]\n",
            " [0.71495248 0.42421132]\n",
            " [0.79231201 1.4832315 ]]\n"
          ]
        }
      ],
      "source": [
        "cartesian = np.random.rand(10, 2)  # Random 10x2 matrix\n",
        "x, y = cartesian[:, 0], cartesian[:, 1]\n",
        "\n",
        "r = np.sqrt(x**2 + y**2)  # Radius\n",
        "theta = np.arctan2(y, x)  # Angle\n",
        "\n",
        "polar = np.column_stack((r, theta))  # Stack r and theta\n",
        "print(polar)"
      ]
    },
    {
      "cell_type": "markdown",
      "id": "b7d7dd80",
      "metadata": {
        "id": "b7d7dd80"
      },
      "source": [
        "#### 45. Create random vector of size 10 and replace the maximum value by 0 (★★☆)"
      ]
    },
    {
      "cell_type": "code",
      "execution_count": 63,
      "id": "8403a440",
      "metadata": {
        "colab": {
          "base_uri": "https://localhost:8080/"
        },
        "id": "8403a440",
        "outputId": "5e109870-fc61-4d4d-cd50-27a9365a4c88"
      },
      "outputs": [
        {
          "output_type": "stream",
          "name": "stdout",
          "text": [
            "[0.82089187 0.         0.05960721 0.30802005 0.39275656 0.94343206\n",
            " 0.78055744 0.00648051 0.57598198 0.74613049]\n"
          ]
        }
      ],
      "source": [
        "arr = np.random.rand(10)  # Random vector\n",
        "arr[arr.argmax()] = 0  # Replace max with 0\n",
        "print(arr)\n"
      ]
    },
    {
      "cell_type": "markdown",
      "id": "b47e5837",
      "metadata": {
        "id": "b47e5837"
      },
      "source": [
        "#### 46. Create a structured array with `x` and `y` coordinates covering the [0,1]x[0,1] area (★★☆)"
      ]
    },
    {
      "cell_type": "code",
      "execution_count": 64,
      "id": "42c72e94",
      "metadata": {
        "colab": {
          "base_uri": "https://localhost:8080/"
        },
        "id": "42c72e94",
        "outputId": "a1140e75-c629-4040-ce8e-52fb1cd52c93"
      },
      "outputs": [
        {
          "output_type": "stream",
          "name": "stdout",
          "text": [
            "[(0.  , 0.  ) (0.25, 0.  ) (0.5 , 0.  ) (0.75, 0.  ) (1.  , 0.  )\n",
            " (0.  , 0.25) (0.25, 0.25) (0.5 , 0.25) (0.75, 0.25) (1.  , 0.25)\n",
            " (0.  , 0.5 ) (0.25, 0.5 ) (0.5 , 0.5 ) (0.75, 0.5 ) (1.  , 0.5 )\n",
            " (0.  , 0.75) (0.25, 0.75) (0.5 , 0.75) (0.75, 0.75) (1.  , 0.75)\n",
            " (0.  , 1.  ) (0.25, 1.  ) (0.5 , 1.  ) (0.75, 1.  ) (1.  , 1.  )]\n"
          ]
        }
      ],
      "source": [
        "grid_x, grid_y = np.meshgrid(np.linspace(0, 1, 5), np.linspace(0, 1, 5))\n",
        "structured_array = np.core.records.fromarrays([grid_x.ravel(), grid_y.ravel()], names='x, y')\n",
        "\n",
        "print(structured_array)\n"
      ]
    },
    {
      "cell_type": "markdown",
      "id": "8c7946ee",
      "metadata": {
        "id": "8c7946ee"
      },
      "source": [
        "#### 47. Given two arrays, X and Y, construct the Cauchy matrix C (Cij =1/(xi - yj)) (★★☆)"
      ]
    },
    {
      "cell_type": "code",
      "execution_count": 65,
      "id": "26b93f06",
      "metadata": {
        "colab": {
          "base_uri": "https://localhost:8080/"
        },
        "id": "26b93f06",
        "outputId": "63e862c2-67a0-4b15-c1f6-eb65862056ee"
      },
      "outputs": [
        {
          "output_type": "stream",
          "name": "stdout",
          "text": [
            "[[ -9.67159744  23.13788162  -5.28008755  -2.14328084  -2.65692208]\n",
            " [ 49.95041026   6.00115607 -15.15716294  -2.91410086  -3.9531947 ]\n",
            " [ -4.45878424 -12.8763635   -3.22298223  -1.70225729  -2.01103574]\n",
            " [  5.46149059   3.03292329  10.29813795  -5.55312818 -11.12599203]\n",
            " [ -3.54347019  -7.3749289   -2.71588211  -1.54945526  -1.80118825]]\n"
          ]
        }
      ],
      "source": [
        "X = np.random.rand(5)\n",
        "Y = np.random.rand(5)\n",
        "\n",
        "C = 1 / (X[:, None] - Y[None, :])\n",
        "print(C)\n"
      ]
    },
    {
      "cell_type": "markdown",
      "id": "3e898e5f",
      "metadata": {
        "id": "3e898e5f"
      },
      "source": [
        "#### 48. Print the minimum and maximum representable value for each numpy scalar type (★★☆)"
      ]
    },
    {
      "cell_type": "code",
      "execution_count": 66,
      "id": "afd1ae18",
      "metadata": {
        "colab": {
          "base_uri": "https://localhost:8080/"
        },
        "id": "afd1ae18",
        "outputId": "305df0d9-a37f-468d-ae71-744bca3af41e"
      },
      "outputs": [
        {
          "output_type": "stream",
          "name": "stdout",
          "text": [
            "<class 'numpy.int32'>: min=-2147483648, max=2147483647\n",
            "<class 'numpy.int64'>: min=-9223372036854775808, max=9223372036854775807\n",
            "<class 'numpy.float32'>: min=-3.4028234663852886e+38, max=3.4028234663852886e+38\n",
            "<class 'numpy.float64'>: min=-1.7976931348623157e+308, max=1.7976931348623157e+308\n"
          ]
        }
      ],
      "source": [
        "types = [np.int32, np.int64, np.float32, np.float64]\n",
        "for dtype in types:\n",
        "    print(f\"{dtype}: min={np.iinfo(dtype).min if np.issubdtype(dtype, np.integer) else np.finfo(dtype).min}, \"\n",
        "          f\"max={np.iinfo(dtype).max if np.issubdtype(dtype, np.integer) else np.finfo(dtype).max}\")\n"
      ]
    },
    {
      "cell_type": "markdown",
      "id": "6fe6133b",
      "metadata": {
        "id": "6fe6133b"
      },
      "source": [
        "#### 49. How to print all the values of an array? (★★☆)"
      ]
    },
    {
      "cell_type": "code",
      "execution_count": 67,
      "id": "5764ec92",
      "metadata": {
        "colab": {
          "base_uri": "https://localhost:8080/"
        },
        "id": "5764ec92",
        "outputId": "a8a288eb-eec1-49d2-83c7-ad9ad871eb61"
      },
      "outputs": [
        {
          "output_type": "stream",
          "name": "stdout",
          "text": [
            "[ 0  1  2  3  4  5  6  7  8  9 10 11 12 13 14 15 16 17 18 19 20 21 22 23\n",
            " 24 25 26 27 28 29 30 31 32 33 34 35 36 37 38 39 40 41 42 43 44 45 46 47\n",
            " 48 49 50 51 52 53 54 55 56 57 58 59 60 61 62 63 64 65 66 67 68 69 70 71\n",
            " 72 73 74 75 76 77 78 79 80 81 82 83 84 85 86 87 88 89 90 91 92 93 94 95\n",
            " 96 97 98 99]\n"
          ]
        }
      ],
      "source": [
        "np.set_printoptions(threshold=np.inf)  # Force full array printing\n",
        "arr = np.arange(100)  # Large array\n",
        "print(arr)\n"
      ]
    },
    {
      "cell_type": "markdown",
      "id": "7ee2dacc",
      "metadata": {
        "id": "7ee2dacc"
      },
      "source": [
        "#### 50. How to find the closest value (to a given scalar) in a vector? (★★☆)"
      ]
    },
    {
      "cell_type": "code",
      "execution_count": 68,
      "id": "742518ef",
      "metadata": {
        "colab": {
          "base_uri": "https://localhost:8080/"
        },
        "id": "742518ef",
        "outputId": "0242de25-4f2a-4292-c161-2ef6c3d111b8"
      },
      "outputs": [
        {
          "output_type": "stream",
          "name": "stdout",
          "text": [
            "Array: [0.89339261 0.69755095 0.56407734 0.21247818 0.80267147 0.89681093\n",
            " 0.94491399 0.02403636 0.94154604 0.95698723]\n",
            "Closest value to 0.5: 0.564077338781619\n"
          ]
        }
      ],
      "source": [
        "arr = np.random.rand(10)\n",
        "scalar = 0.5\n",
        "closest = arr[np.abs(arr - scalar).argmin()]\n",
        "print(f\"Array: {arr}\\nClosest value to {scalar}: {closest}\")\n"
      ]
    },
    {
      "cell_type": "markdown",
      "id": "cfeda6ba",
      "metadata": {
        "id": "cfeda6ba"
      },
      "source": [
        "#### 51. Create a structured array representing a position (x,y) and a color (r,g,b) (★★☆)"
      ]
    },
    {
      "cell_type": "code",
      "execution_count": 70,
      "id": "9fcbd031",
      "metadata": {
        "colab": {
          "base_uri": "https://localhost:8080/"
        },
        "id": "9fcbd031",
        "outputId": "a48c3f7a-6fff-4b42-de75-4f277d354332"
      },
      "outputs": [
        {
          "output_type": "stream",
          "name": "stdout",
          "text": [
            "[((1., 2.), (255,   0, 0)) ((3., 4.), (  0, 255, 0))]\n"
          ]
        }
      ],
      "source": [
        "import numpy as np\n",
        "\n",
        "dtype = [('position', [('x', float), ('y', float)]), ('color', [('r', int), ('g', int), ('b', int)])]\n",
        "structured_array = np.array([((1.0, 2.0), (255, 0, 0)), ((3.0, 4.0), (0, 255, 0))], dtype=dtype)\n",
        "\n",
        "print(structured_array)\n"
      ]
    },
    {
      "cell_type": "markdown",
      "id": "b97e75b5",
      "metadata": {
        "id": "b97e75b5"
      },
      "source": [
        "#### 52. Consider a random vector with shape (100,2) representing coordinates, find point by point distances (★★☆)"
      ]
    },
    {
      "cell_type": "code",
      "execution_count": null,
      "id": "c58a45b6",
      "metadata": {
        "id": "c58a45b6"
      },
      "outputs": [],
      "source": [
        "import numpy as np\n",
        "\n",
        "# Generate random 100x2 coordinates\n",
        "coords = np.random.rand(100, 2)\n",
        "\n",
        "# Compute pairwise Euclidean distance matrix using broadcasting\n",
        "dists = np.sqrt(((coords[:, np.newaxis, :] - coords[np.newaxis, :, :]) ** 2).sum(axis=2))\n",
        "\n",
        "print(dists)\n",
        "\n"
      ]
    },
    {
      "cell_type": "markdown",
      "id": "291e0bb9",
      "metadata": {
        "id": "291e0bb9"
      },
      "source": [
        "#### 53. How to convert a float (32 bits) array into an integer (32 bits) in place?"
      ]
    },
    {
      "cell_type": "code",
      "execution_count": 73,
      "id": "2f3e6c00",
      "metadata": {
        "colab": {
          "base_uri": "https://localhost:8080/"
        },
        "id": "2f3e6c00",
        "outputId": "4a591d7a-0f73-4296-e82e-fd818bf9ff5f"
      },
      "outputs": [
        {
          "output_type": "stream",
          "name": "stdout",
          "text": [
            "[1058796952 1051918634 1059050124 1028866766 1050605896]\n"
          ]
        }
      ],
      "source": [
        "arr = np.random.rand(5).astype(np.float32)  # Float32 array\n",
        "arr = arr.view(np.int32)  # Convert to int32 in place\n",
        "\n",
        "print(arr)\n"
      ]
    },
    {
      "cell_type": "markdown",
      "id": "1e305e92",
      "metadata": {
        "id": "1e305e92"
      },
      "source": [
        "#### 54. How to read the following file? (★★☆)\n",
        "```\n",
        "1, 2, 3, 4, 5\n",
        "6,  ,  , 7, 8\n",
        " ,  , 9,10,11\n",
        "```"
      ]
    },
    {
      "cell_type": "code",
      "execution_count": null,
      "id": "753024cb",
      "metadata": {
        "id": "753024cb"
      },
      "outputs": [],
      "source": [
        "\n"
      ]
    },
    {
      "cell_type": "markdown",
      "id": "94a8ad69",
      "metadata": {
        "id": "94a8ad69"
      },
      "source": [
        "#### 55. What is the equivalent of enumerate for numpy arrays? (★★☆)"
      ]
    },
    {
      "cell_type": "code",
      "execution_count": 76,
      "id": "ae45249f",
      "metadata": {
        "colab": {
          "base_uri": "https://localhost:8080/"
        },
        "id": "ae45249f",
        "outputId": "7a6766a4-c514-4e5e-b06e-cd5be0b50d4f"
      },
      "outputs": [
        {
          "output_type": "stream",
          "name": "stdout",
          "text": [
            "(0,) 10\n",
            "(1,) 20\n",
            "(2,) 30\n",
            "(3,) 40\n"
          ]
        }
      ],
      "source": [
        "arr = np.array([10, 20, 30, 40])\n",
        "for index, value in np.ndenumerate(arr):\n",
        "    print(index, value)"
      ]
    },
    {
      "cell_type": "markdown",
      "id": "72b340c9",
      "metadata": {
        "id": "72b340c9"
      },
      "source": [
        "#### 56. Generate a generic 2D Gaussian-like array (★★☆)"
      ]
    },
    {
      "cell_type": "code",
      "execution_count": 77,
      "id": "a80e5c9b",
      "metadata": {
        "colab": {
          "base_uri": "https://localhost:8080/"
        },
        "id": "a80e5c9b",
        "outputId": "ef84dc04-7965-49ad-8187-a7180de6547c"
      },
      "outputs": [
        {
          "output_type": "stream",
          "name": "stdout",
          "text": [
            "[[0.05854983 0.07133657 0.08272793 0.09131569 0.09593831 0.09593831\n",
            "  0.09131569 0.08272793 0.07133657 0.05854983]\n",
            " [0.07133657 0.08691581 0.10079493 0.11125819 0.11689034 0.11689034\n",
            "  0.11125819 0.10079493 0.08691581 0.07133657]\n",
            " [0.08272793 0.10079493 0.11689034 0.12902442 0.13555594 0.13555594\n",
            "  0.12902442 0.11689034 0.10079493 0.08272793]\n",
            " [0.09131569 0.11125819 0.12902442 0.1424181  0.14962764 0.14962764\n",
            "  0.1424181  0.12902442 0.11125819 0.09131569]\n",
            " [0.09593831 0.11689034 0.13555594 0.14962764 0.15720215 0.15720215\n",
            "  0.14962764 0.13555594 0.11689034 0.09593831]\n",
            " [0.09593831 0.11689034 0.13555594 0.14962764 0.15720215 0.15720215\n",
            "  0.14962764 0.13555594 0.11689034 0.09593831]\n",
            " [0.09131569 0.11125819 0.12902442 0.1424181  0.14962764 0.14962764\n",
            "  0.1424181  0.12902442 0.11125819 0.09131569]\n",
            " [0.08272793 0.10079493 0.11689034 0.12902442 0.13555594 0.13555594\n",
            "  0.12902442 0.11689034 0.10079493 0.08272793]\n",
            " [0.07133657 0.08691581 0.10079493 0.11125819 0.11689034 0.11689034\n",
            "  0.11125819 0.10079493 0.08691581 0.07133657]\n",
            " [0.05854983 0.07133657 0.08272793 0.09131569 0.09593831 0.09593831\n",
            "  0.09131569 0.08272793 0.07133657 0.05854983]]\n"
          ]
        }
      ],
      "source": [
        "from scipy.stats import multivariate_normal\n",
        "\n",
        "x, y = np.meshgrid(np.linspace(-1, 1, 10), np.linspace(-1, 1, 10))\n",
        "pos = np.dstack((x, y))\n",
        "rv = multivariate_normal([0, 0], [[1, 0], [0, 1]])\n",
        "gaussian = rv.pdf(pos)\n",
        "\n",
        "print(gaussian)"
      ]
    },
    {
      "cell_type": "markdown",
      "id": "86550d61",
      "metadata": {
        "id": "86550d61"
      },
      "source": [
        "#### 57. How to randomly place p elements in a 2D array? (★★☆)"
      ]
    },
    {
      "cell_type": "code",
      "execution_count": 78,
      "id": "db9f2582",
      "metadata": {
        "colab": {
          "base_uri": "https://localhost:8080/"
        },
        "id": "db9f2582",
        "outputId": "65a8cb36-6172-40d5-898f-042bc824b04c"
      },
      "outputs": [
        {
          "output_type": "stream",
          "name": "stdout",
          "text": [
            "[[0. 0. 0. 0. 0. 0. 0. 0. 0. 0.]\n",
            " [0. 0. 0. 0. 1. 0. 0. 0. 0. 0.]\n",
            " [0. 0. 0. 0. 0. 0. 0. 0. 0. 0.]\n",
            " [0. 0. 0. 0. 0. 0. 0. 0. 0. 0.]\n",
            " [0. 0. 1. 0. 0. 0. 0. 0. 0. 0.]\n",
            " [0. 0. 0. 0. 1. 0. 0. 0. 0. 0.]\n",
            " [0. 0. 0. 1. 0. 0. 0. 0. 0. 0.]\n",
            " [0. 0. 0. 0. 0. 0. 0. 0. 0. 0.]\n",
            " [0. 0. 0. 0. 0. 0. 0. 0. 0. 0.]\n",
            " [0. 0. 0. 1. 0. 0. 0. 0. 0. 0.]]\n"
          ]
        }
      ],
      "source": [
        "arr = np.zeros((10, 10))\n",
        "p = 5\n",
        "indices = np.random.choice(arr.size, p, replace=False)\n",
        "arr.flat[indices] = 1\n",
        "\n",
        "print(arr)"
      ]
    },
    {
      "cell_type": "markdown",
      "id": "153f8cfa",
      "metadata": {
        "id": "153f8cfa"
      },
      "source": [
        "#### 58. Subtract the mean of each row of a matrix (★★☆)"
      ]
    },
    {
      "cell_type": "code",
      "execution_count": 79,
      "id": "8301cb12",
      "metadata": {
        "colab": {
          "base_uri": "https://localhost:8080/"
        },
        "id": "8301cb12",
        "outputId": "da0d32e9-5cf3-4282-a6c6-e22ce9d9cc58"
      },
      "outputs": [
        {
          "output_type": "stream",
          "name": "stdout",
          "text": [
            "[[-0.35186773  0.2174645  -0.19248871  0.51046215 -0.18357022]\n",
            " [ 0.49692362 -0.1615111  -0.25899919  0.04002855 -0.11644188]\n",
            " [-0.10669695 -0.09088109  0.37421201 -0.14084999 -0.03578397]\n",
            " [-0.15367246 -0.26394172 -0.07768012  0.12041365  0.37488065]\n",
            " [-0.02510343  0.06201673 -0.04678941 -0.24580469  0.2556808 ]]\n"
          ]
        }
      ],
      "source": [
        "matrix = np.random.rand(5, 5)\n",
        "result = matrix - matrix.mean(axis=1, keepdims=True)\n",
        "\n",
        "print(result)\n"
      ]
    },
    {
      "cell_type": "markdown",
      "id": "f4038090",
      "metadata": {
        "id": "f4038090"
      },
      "source": [
        "#### 59. How to sort an array by the nth column? (★★☆)"
      ]
    },
    {
      "cell_type": "code",
      "execution_count": 80,
      "id": "eb5745df",
      "metadata": {
        "colab": {
          "base_uri": "https://localhost:8080/"
        },
        "id": "eb5745df",
        "outputId": "e55a50c5-8072-46ae-b109-c2622482e365"
      },
      "outputs": [
        {
          "output_type": "stream",
          "name": "stdout",
          "text": [
            "[[66 30 51]\n",
            " [ 1 79 71]\n",
            " [10 81 31]\n",
            " [43 85 48]\n",
            " [95 92 21]]\n"
          ]
        }
      ],
      "source": [
        "arr = np.random.randint(0, 100, (5, 3))\n",
        "n = 1  # Sort by second column\n",
        "sorted_arr = arr[arr[:, n].argsort()]\n",
        "\n",
        "print(sorted_arr)\n"
      ]
    },
    {
      "cell_type": "markdown",
      "id": "20d2a462",
      "metadata": {
        "id": "20d2a462"
      },
      "source": [
        "#### 60. How to tell if a given 2D array has null columns? (★★☆)"
      ]
    },
    {
      "cell_type": "code",
      "execution_count": 81,
      "id": "b92b7316",
      "metadata": {
        "colab": {
          "base_uri": "https://localhost:8080/"
        },
        "id": "b92b7316",
        "outputId": "92ed94b5-e087-4599-948f-fb177f8aff45"
      },
      "outputs": [
        {
          "output_type": "stream",
          "name": "stdout",
          "text": [
            "[False False False False False]\n"
          ]
        }
      ],
      "source": [
        "arr = np.random.randint(0, 2, (4, 5))  # Example array\n",
        "null_columns = np.all(arr == 0, axis=0)\n",
        "\n",
        "print(null_columns)  # True means the column is all zeros\n"
      ]
    },
    {
      "cell_type": "markdown",
      "id": "bb2aa49b",
      "metadata": {
        "id": "bb2aa49b"
      },
      "source": [
        "#### 61. Find the nearest value from a given value in an array (★★☆)"
      ]
    },
    {
      "cell_type": "code",
      "execution_count": 82,
      "id": "8b62e59c",
      "metadata": {
        "colab": {
          "base_uri": "https://localhost:8080/"
        },
        "id": "8b62e59c",
        "outputId": "b5546332-9ac7-405f-beb4-700de1b60cd4"
      },
      "outputs": [
        {
          "output_type": "stream",
          "name": "stdout",
          "text": [
            "0.5083175604111845\n"
          ]
        }
      ],
      "source": [
        "arr = np.random.rand(10)\n",
        "scalar = 0.5\n",
        "nearest = arr[np.abs(arr - scalar).argmin()]\n",
        "\n",
        "print(nearest)\n"
      ]
    },
    {
      "cell_type": "markdown",
      "id": "1a950e1a",
      "metadata": {
        "id": "1a950e1a"
      },
      "source": [
        "#### 62. Considering two arrays with shape (1,3) and (3,1), how to compute their sum using an iterator? (★★☆)"
      ]
    },
    {
      "cell_type": "code",
      "execution_count": 83,
      "id": "cad1d01b",
      "metadata": {
        "colab": {
          "base_uri": "https://localhost:8080/"
        },
        "id": "cad1d01b",
        "outputId": "697b69bf-3c53-44df-cab5-acafbf2fb310"
      },
      "outputs": [
        {
          "output_type": "stream",
          "name": "stdout",
          "text": [
            "[[5 6 7]\n",
            " [6 7 8]\n",
            " [7 8 9]]\n"
          ]
        }
      ],
      "source": [
        "a = np.array([[1, 2, 3]])  # Shape (1,3)\n",
        "b = np.array([[4], [5], [6]])  # Shape (3,1)\n",
        "\n",
        "it = np.nditer([a, b, None])\n",
        "for x, y, res in it:\n",
        "    res[...] = x + y\n",
        "print(it.operands[2])\n"
      ]
    },
    {
      "cell_type": "markdown",
      "id": "165b3a20",
      "metadata": {
        "id": "165b3a20"
      },
      "source": [
        "#### 63. Create an array class that has a name attribute (★★☆)"
      ]
    },
    {
      "cell_type": "code",
      "execution_count": 84,
      "id": "666bf983",
      "metadata": {
        "colab": {
          "base_uri": "https://localhost:8080/"
        },
        "id": "666bf983",
        "outputId": "6fc7e214-4644-42d0-8b3b-7425bc68bf8b"
      },
      "outputs": [
        {
          "output_type": "stream",
          "name": "stdout",
          "text": [
            "MyArray [1 2 3]\n"
          ]
        }
      ],
      "source": [
        "class NamedArray(np.ndarray):\n",
        "    def __new__(cls, array, name=\"Unnamed\"):\n",
        "        obj = np.asarray(array).view(cls)\n",
        "        obj.name = name\n",
        "        return obj\n",
        "\n",
        "arr = NamedArray([1, 2, 3], name=\"MyArray\")\n",
        "print(arr.name, arr)\n"
      ]
    },
    {
      "cell_type": "markdown",
      "id": "87f85b12",
      "metadata": {
        "id": "87f85b12"
      },
      "source": [
        "#### 64. Consider a given vector, how to add 1 to each element indexed by a second vector (be careful with repeated indices)? (★★★)"
      ]
    },
    {
      "cell_type": "code",
      "execution_count": 85,
      "id": "03ee4c88",
      "metadata": {
        "colab": {
          "base_uri": "https://localhost:8080/"
        },
        "id": "03ee4c88",
        "outputId": "37be8d4e-c1fd-496d-cbe6-f5ec8bdfa0c0"
      },
      "outputs": [
        {
          "output_type": "stream",
          "name": "stdout",
          "text": [
            "[0 2 0 2 0 0 0 1 1 0]\n"
          ]
        }
      ],
      "source": [
        "import numpy as np\n",
        "\n",
        "X = np.zeros(10, dtype=int)  # Initialize a vector of zeros\n",
        "indices = np.array([1, 3, 3, 7, 8, 1])  # Indices where we add 1\n",
        "\n",
        "np.add.at(X, indices, 1)  # Adds 1 at the specified indices (handling repeats)\n",
        "print(X)\n"
      ]
    },
    {
      "cell_type": "markdown",
      "id": "1cda27c4",
      "metadata": {
        "id": "1cda27c4"
      },
      "source": [
        "#### 65. How to accumulate elements of a vector (X) to an array (F) based on an index list (I)? (★★★)"
      ]
    },
    {
      "cell_type": "code",
      "execution_count": 86,
      "id": "aee2c782",
      "metadata": {
        "colab": {
          "base_uri": "https://localhost:8080/"
        },
        "id": "aee2c782",
        "outputId": "b0ee5f44-2020-46d5-fc55-1d09eb950697"
      },
      "outputs": [
        {
          "output_type": "stream",
          "name": "stdout",
          "text": [
            "[6. 6. 3.]\n"
          ]
        }
      ],
      "source": [
        "X = np.array([1, 2, 3, 4, 5])\n",
        "I = np.array([0, 1, 2, 1, 0])  # Index list\n",
        "F = np.zeros(3)  # Target array\n",
        "\n",
        "np.add.at(F, I, X)\n",
        "print(F)  # Accumulated values\n"
      ]
    },
    {
      "cell_type": "markdown",
      "id": "1db205db",
      "metadata": {
        "id": "1db205db"
      },
      "source": [
        "#### 66. Considering a (w,h,3) image of (dtype=ubyte), compute the number of unique colors (★★☆)"
      ]
    },
    {
      "cell_type": "code",
      "execution_count": 87,
      "id": "43204f35",
      "metadata": {
        "colab": {
          "base_uri": "https://localhost:8080/"
        },
        "id": "43204f35",
        "outputId": "4521a91e-105e-4d1e-989d-f674e2391ab1"
      },
      "outputs": [
        {
          "output_type": "stream",
          "name": "stdout",
          "text": [
            "9996\n"
          ]
        }
      ],
      "source": [
        "image = np.random.randint(0, 256, (100, 100, 3), dtype=np.uint8)  # Random image\n",
        "unique_colors = np.unique(image.reshape(-1, 3), axis=0)  # Find unique colors\n",
        "print(len(unique_colors))  # Number of unique colors\n"
      ]
    },
    {
      "cell_type": "markdown",
      "id": "ebaf1222",
      "metadata": {
        "id": "ebaf1222"
      },
      "source": [
        "#### 67. Considering a four dimensions array, how to get sum over the last two axis at once? (★★★)"
      ]
    },
    {
      "cell_type": "code",
      "execution_count": 88,
      "id": "aabbbab9",
      "metadata": {
        "colab": {
          "base_uri": "https://localhost:8080/"
        },
        "id": "aabbbab9",
        "outputId": "fd3a5641-828b-4196-bb2b-c4135d382456"
      },
      "outputs": [
        {
          "output_type": "stream",
          "name": "stdout",
          "text": [
            "(3, 4)\n"
          ]
        }
      ],
      "source": [
        "A = np.random.rand(3, 4, 5, 6)\n",
        "result = A.sum(axis=(-2, -1))  # Summing over last two axes\n",
        "print(result.shape)  # Expected shape (3, 4)\n"
      ]
    },
    {
      "cell_type": "markdown",
      "id": "2dfb4033",
      "metadata": {
        "id": "2dfb4033"
      },
      "source": [
        "#### 68. Considering a one-dimensional vector D, how to compute means of subsets of D using a vector S of same size describing subset  indices? (★★★)"
      ]
    },
    {
      "cell_type": "code",
      "execution_count": 89,
      "id": "7a9c2287",
      "metadata": {
        "colab": {
          "base_uri": "https://localhost:8080/"
        },
        "id": "7a9c2287",
        "outputId": "f87c0603-bef5-4aa2-b945-e1e839e6da9f"
      },
      "outputs": [
        {
          "output_type": "stream",
          "name": "stdout",
          "text": [
            "[0.78284953 0.59647873 0.63480435 0.42768648]\n"
          ]
        }
      ],
      "source": [
        "D = np.random.rand(10)\n",
        "S = np.array([0, 1, 1, 2, 2, 2, 3, 3, 3, 3])  # Subset indices\n",
        "means = np.bincount(S, weights=D) / np.bincount(S)  # Compute means per subset\n",
        "print(means)\n"
      ]
    },
    {
      "cell_type": "markdown",
      "id": "7035c626",
      "metadata": {
        "id": "7035c626"
      },
      "source": [
        "#### 69. How to get the diagonal of a dot product? (★★★)"
      ]
    },
    {
      "cell_type": "code",
      "execution_count": 90,
      "id": "f6af16c1",
      "metadata": {
        "colab": {
          "base_uri": "https://localhost:8080/"
        },
        "id": "f6af16c1",
        "outputId": "12594474-9eb2-4159-b747-975deca1a219"
      },
      "outputs": [
        {
          "output_type": "stream",
          "name": "stdout",
          "text": [
            "[1.50762121 0.20175226 0.6343635  1.02377232]\n"
          ]
        }
      ],
      "source": [
        "A = np.random.rand(4, 4)\n",
        "B = np.random.rand(4, 4)\n",
        "\n",
        "diagonal = np.einsum(\"ij,ji->i\", A, B)  # Efficient way to compute diagonal\n",
        "print(diagonal)\n"
      ]
    },
    {
      "cell_type": "markdown",
      "id": "8f73f0e5",
      "metadata": {
        "id": "8f73f0e5"
      },
      "source": [
        "#### 70. Consider the vector [1, 2, 3, 4, 5], how to build a new vector with 3 consecutive zeros interleaved between each value? (★★★)"
      ]
    },
    {
      "cell_type": "code",
      "execution_count": 91,
      "id": "b0cabc11",
      "metadata": {
        "colab": {
          "base_uri": "https://localhost:8080/"
        },
        "id": "b0cabc11",
        "outputId": "23bb5062-1eeb-4b96-bc21-485527fbb8ca"
      },
      "outputs": [
        {
          "output_type": "stream",
          "name": "stdout",
          "text": [
            "[1 0 0 0 2 0 0 0 3 0 0 0 4 0 0 0 5]\n"
          ]
        }
      ],
      "source": [
        "vec = np.array([1, 2, 3, 4, 5])\n",
        "new_vec = np.zeros(len(vec) * 4 - 3, dtype=int)  # Extra spaces for zeros\n",
        "new_vec[::4] = vec  # Place original elements at every 4th position\n",
        "print(new_vec)\n"
      ]
    },
    {
      "cell_type": "markdown",
      "id": "bafaa79e",
      "metadata": {
        "id": "bafaa79e"
      },
      "source": [
        "#### 71. Consider an array of dimension (5,5,3), how to mulitply it by an array with dimensions (5,5)? (★★★)"
      ]
    },
    {
      "cell_type": "code",
      "execution_count": 93,
      "id": "d441e30b",
      "metadata": {
        "colab": {
          "base_uri": "https://localhost:8080/"
        },
        "id": "d441e30b",
        "outputId": "40a981fa-b5f7-4316-843e-9b6c4d0f4a4b"
      },
      "outputs": [
        {
          "output_type": "stream",
          "name": "stdout",
          "text": [
            "(5, 5, 3)\n"
          ]
        }
      ],
      "source": [
        "A = np.random.rand(5, 5, 3)\n",
        "B = np.random.rand(5, 5, 1)  # Reshape to (5,5,1) for broadcasting\n",
        "result = A * B\n",
        "print(result.shape)  # Should be (5,5,3)\n",
        "\n"
      ]
    },
    {
      "cell_type": "markdown",
      "id": "80a9ac82",
      "metadata": {
        "id": "80a9ac82"
      },
      "source": [
        "#### 72. How to swap two rows of an array? (★★★)"
      ]
    },
    {
      "cell_type": "code",
      "execution_count": 94,
      "id": "1aee2791",
      "metadata": {
        "colab": {
          "base_uri": "https://localhost:8080/"
        },
        "id": "1aee2791",
        "outputId": "b3ff1288-864b-4994-8e74-a742c59271fa"
      },
      "outputs": [
        {
          "output_type": "stream",
          "name": "stdout",
          "text": [
            "[[10 11 12 13 14]\n",
            " [ 5  6  7  8  9]\n",
            " [ 0  1  2  3  4]\n",
            " [15 16 17 18 19]\n",
            " [20 21 22 23 24]]\n"
          ]
        }
      ],
      "source": [
        "A = np.arange(25).reshape(5, 5)\n",
        "A[[0, 2]] = A[[2, 0]]  # Swap row 0 and row 2\n",
        "print(A)\n"
      ]
    },
    {
      "cell_type": "markdown",
      "id": "5e53d68c",
      "metadata": {
        "id": "5e53d68c"
      },
      "source": [
        "#### 73. Consider a set of 10 triplets describing 10 triangles (with shared vertices), find the set of unique line segments composing all the  triangles (★★★)"
      ]
    },
    {
      "cell_type": "code",
      "execution_count": 95,
      "id": "2f975322",
      "metadata": {
        "colab": {
          "base_uri": "https://localhost:8080/"
        },
        "id": "2f975322",
        "outputId": "bf5b4648-0b02-4626-d408-fa50bfc02955"
      },
      "outputs": [
        {
          "output_type": "stream",
          "name": "stdout",
          "text": [
            "[[[ 0 11]\n",
            "  [ 3 99]]\n",
            "\n",
            " [[ 0 35]\n",
            "  [21 99]]\n",
            "\n",
            " [[ 3 11]\n",
            "  [21 35]]\n",
            "\n",
            " [[ 4 23]\n",
            "  [16 67]]\n",
            "\n",
            " [[ 4 59]\n",
            "  [35 67]]\n",
            "\n",
            " [[ 6  7]\n",
            "  [11 57]]\n",
            "\n",
            " [[ 6  7]\n",
            "  [11 74]]\n",
            "\n",
            " [[ 6 57]\n",
            "  [ 6 74]]\n",
            "\n",
            " [[ 7 14]\n",
            "  [34 56]]\n",
            "\n",
            " [[ 7 14]\n",
            "  [48 58]]\n",
            "\n",
            " [[ 8  0]\n",
            "  [26 95]]\n",
            "\n",
            " [[ 8  0]\n",
            "  [77  7]]\n",
            "\n",
            " [[10 57]\n",
            "  [37 73]]\n",
            "\n",
            " [[10 73]\n",
            "  [75 99]]\n",
            "\n",
            " [[15 32]\n",
            "  [61 48]]\n",
            "\n",
            " [[15 48]\n",
            "  [74 91]]\n",
            "\n",
            " [[16 23]\n",
            "  [35 59]]\n",
            "\n",
            " [[25 45]\n",
            "  [80 53]]\n",
            "\n",
            " [[25 51]\n",
            "  [94 53]]\n",
            "\n",
            " [[26  7]\n",
            "  [77 95]]\n",
            "\n",
            " [[31 57]\n",
            "  [32 59]]\n",
            "\n",
            " [[31 57]\n",
            "  [76 65]]\n",
            "\n",
            " [[32 59]\n",
            "  [76 65]]\n",
            "\n",
            " [[34 56]\n",
            "  [48 58]]\n",
            "\n",
            " [[37 57]\n",
            "  [75 99]]\n",
            "\n",
            " [[61 32]\n",
            "  [74 91]]\n",
            "\n",
            " [[66  1]\n",
            "  [94 27]]\n",
            "\n",
            " [[66 10]\n",
            "  [95 27]]\n",
            "\n",
            " [[80 45]\n",
            "  [94 51]]\n",
            "\n",
            " [[94  1]\n",
            "  [95 10]]]\n"
          ]
        }
      ],
      "source": [
        "triangles = np.random.randint(0, 100, (10, 3, 2))  # 10 triangles with 3 vertices each\n",
        "edges = np.sort(np.concatenate([triangles[:, [0, 1]], triangles[:, [1, 2]], triangles[:, [2, 0]]]), axis=1)\n",
        "unique_edges = np.unique(edges, axis=0)\n",
        "print(unique_edges)\n"
      ]
    },
    {
      "cell_type": "markdown",
      "id": "f85da603",
      "metadata": {
        "id": "f85da603"
      },
      "source": [
        "#### 74. Given a sorted array C that corresponds to a bincount, how to produce an array A such that np.bincount(A) == C? (★★★)"
      ]
    },
    {
      "cell_type": "code",
      "execution_count": 96,
      "id": "8c476a73",
      "metadata": {
        "colab": {
          "base_uri": "https://localhost:8080/"
        },
        "id": "8c476a73",
        "outputId": "aebf2c29-6354-4b85-d4f2-9fc5e9ca2732"
      },
      "outputs": [
        {
          "output_type": "stream",
          "name": "stdout",
          "text": [
            "[0 0 0 1 1 3 3 3 3]\n"
          ]
        }
      ],
      "source": [
        "C = np.array([3, 2, 0, 4])  # Example bincount\n",
        "A = np.repeat(np.arange(len(C)), C)  # Expands elements based on counts\n",
        "print(A)  # Resulting array\n"
      ]
    },
    {
      "cell_type": "markdown",
      "id": "a2330e6c",
      "metadata": {
        "id": "a2330e6c"
      },
      "source": [
        "#### 75. How to compute averages using a sliding window over an array? (★★★)"
      ]
    },
    {
      "cell_type": "code",
      "execution_count": 97,
      "id": "35e5e9f5",
      "metadata": {
        "colab": {
          "base_uri": "https://localhost:8080/"
        },
        "id": "35e5e9f5",
        "outputId": "1c78875e-1dfb-472b-fb50-9bbc22abaa5c"
      },
      "outputs": [
        {
          "output_type": "stream",
          "name": "stdout",
          "text": [
            "[1. 2. 3. 4. 5. 6. 7. 8.]\n"
          ]
        }
      ],
      "source": [
        "X = np.arange(10)\n",
        "window_size = 3\n",
        "averages = np.convolve(X, np.ones(window_size) / window_size, mode='valid')\n",
        "print(averages)\n"
      ]
    },
    {
      "cell_type": "markdown",
      "id": "87698de8",
      "metadata": {
        "id": "87698de8"
      },
      "source": [
        "#### 76. Consider a one-dimensional array Z, build a two-dimensional array whose first row is (Z[0],Z[1],Z[2]) and each subsequent row is  shifted by 1 (last row should be (Z[-3],Z[-2],Z[-1]) (★★★)"
      ]
    },
    {
      "cell_type": "code",
      "execution_count": 98,
      "id": "753763ed",
      "metadata": {
        "colab": {
          "base_uri": "https://localhost:8080/"
        },
        "id": "753763ed",
        "outputId": "aa81345e-5f38-49e7-e36b-79b76255d43c"
      },
      "outputs": [
        {
          "output_type": "stream",
          "name": "stdout",
          "text": [
            "[[0 1 2]\n",
            " [1 2 3]\n",
            " [2 3 4]\n",
            " [3 4 5]\n",
            " [4 5 6]\n",
            " [5 6 7]\n",
            " [6 7 8]\n",
            " [7 8 9]]\n"
          ]
        }
      ],
      "source": [
        "import numpy as np\n",
        "\n",
        "Z = np.arange(10)  # Example 1D array\n",
        "window_size = 3\n",
        "result = np.lib.stride_tricks.sliding_window_view(Z, window_size)\n",
        "print(result)\n"
      ]
    },
    {
      "cell_type": "markdown",
      "id": "b8417b15",
      "metadata": {
        "id": "b8417b15"
      },
      "source": [
        "#### 77. How to negate a boolean, or to change the sign of a float inplace? (★★★)"
      ]
    },
    {
      "cell_type": "code",
      "execution_count": 101,
      "id": "3cad31b2",
      "metadata": {
        "colab": {
          "base_uri": "https://localhost:8080/"
        },
        "id": "3cad31b2",
        "outputId": "467e7058-65b7-41a2-c5dc-47cdc8a6bb4a"
      },
      "outputs": [
        {
          "output_type": "stream",
          "name": "stdout",
          "text": [
            "[False  True False]\n",
            "[-1.   2.5 -3.6]\n"
          ]
        }
      ],
      "source": [
        "Z = np.array([True, False, True])\n",
        "Z = ~Z  # Negate boolean\n",
        "print(Z)\n",
        "\n",
        "F = np.array([1.0, -2.5, 3.6])\n",
        "F *= -1  # Change sign of float\n",
        "print(F)\n"
      ]
    },
    {
      "cell_type": "markdown",
      "id": "37a49831",
      "metadata": {
        "id": "37a49831"
      },
      "source": [
        "#### 78. Consider 2 sets of points P0,P1 describing lines (2d) and a point p, how to compute distance from p to each line i (P0[i],P1[i])? (★★★)"
      ]
    },
    {
      "cell_type": "code",
      "source": [
        "P0 = np.random.rand(5, 2)  # Random 2D start points\n",
        "P1 = np.random.rand(5, 2)  # Random 2D end points\n",
        "p = np.random.rand(2)  # Random 2D point\n",
        "\n",
        "def point_to_line_dist(P0, P1, p):\n",
        "    num = np.abs(np.cross(P1 - P0, P0 - p))\n",
        "    denom = np.linalg.norm(P1 - P0, axis=1)\n",
        "    return num / denom\n",
        "\n",
        "distances = point_to_line_dist(P0, P1, p)\n",
        "print(distances)\n"
      ],
      "metadata": {
        "colab": {
          "base_uri": "https://localhost:8080/"
        },
        "id": "Ljx58z7FDvIV",
        "outputId": "5fccadeb-02e9-4627-a3e7-3c3940204bc8"
      },
      "id": "Ljx58z7FDvIV",
      "execution_count": 102,
      "outputs": [
        {
          "output_type": "stream",
          "name": "stdout",
          "text": [
            "[0.17973698 0.30741036 0.47752883 0.27699139 0.41879178]\n"
          ]
        }
      ]
    },
    {
      "cell_type": "markdown",
      "id": "f5ae032f",
      "metadata": {
        "id": "f5ae032f"
      },
      "source": [
        "#### 79. Consider 2 sets of points P0,P1 describing lines (2d) and a set of points P, how to compute distance from each point j (P[j]) to each line i (P0[i],P1[i])? (★★★)"
      ]
    },
    {
      "cell_type": "code",
      "execution_count": 103,
      "id": "f5ae2e9b",
      "metadata": {
        "colab": {
          "base_uri": "https://localhost:8080/"
        },
        "id": "f5ae2e9b",
        "outputId": "1b61b4f4-73a9-4cdc-f0b8-b90360d4c74c"
      },
      "outputs": [
        {
          "output_type": "stream",
          "name": "stdout",
          "text": [
            "[[0.20306324 0.25471468 0.6398821  0.84734358 0.1490225 ]\n",
            " [0.49357133 0.16664225 0.08790045 0.42185154 0.03337621]\n",
            " [0.74198355 0.15807658 0.21178351 0.07797599 0.2957725 ]\n",
            " [0.61349318 0.01819669 0.13472054 0.23744933 0.15308405]\n",
            " [0.58433835 0.38425528 0.06671802 0.01303657 0.51117819]]\n"
          ]
        }
      ],
      "source": [
        "P = np.random.rand(5, 2)  # Random set of points\n",
        "\n",
        "distances = np.array([point_to_line_dist(P0, P1, p) for p in P])\n",
        "print(distances)\n"
      ]
    },
    {
      "cell_type": "markdown",
      "id": "6bc35ba2",
      "metadata": {
        "id": "6bc35ba2"
      },
      "source": [
        "#### 80. Consider an arbitrary array, write a function that extract a subpart with a fixed shape and centered on a given element (pad with a `fill` value when necessary) (★★★)"
      ]
    },
    {
      "cell_type": "code",
      "execution_count": 104,
      "id": "2ad8db75",
      "metadata": {
        "colab": {
          "base_uri": "https://localhost:8080/"
        },
        "id": "2ad8db75",
        "outputId": "fae93d5a-581a-490c-8797-146e5323a36e"
      },
      "outputs": [
        {
          "output_type": "stream",
          "name": "stdout",
          "text": [
            "[[4 1 5]\n",
            " [4 7 2]\n",
            " [3 3 0]]\n"
          ]
        }
      ],
      "source": [
        "def extract_subarray(A, center, shape, fill_value=0):\n",
        "    padded = np.pad(A, [(s//2, s//2) for s in shape], constant_values=fill_value)\n",
        "    slices = tuple(slice(c, c + s) for c, s in zip(center, shape))\n",
        "    return padded[slices]\n",
        "\n",
        "A = np.random.randint(0, 10, (5, 5))\n",
        "subarray = extract_subarray(A, (2, 2), (3, 3))\n",
        "print(subarray)\n"
      ]
    },
    {
      "cell_type": "markdown",
      "id": "d17818f7",
      "metadata": {
        "id": "d17818f7"
      },
      "source": [
        "#### 81. Consider an array Z = [1,2,3,4,5,6,7,8,9,10,11,12,13,14], how to generate an array R = [[1,2,3,4], [2,3,4,5], [3,4,5,6], ..., [11,12,13,14]]? (★★★)"
      ]
    },
    {
      "cell_type": "code",
      "execution_count": 105,
      "id": "97deb72f",
      "metadata": {
        "colab": {
          "base_uri": "https://localhost:8080/"
        },
        "id": "97deb72f",
        "outputId": "f28bed4b-9082-4d8f-93a9-76b1f72582ee"
      },
      "outputs": [
        {
          "output_type": "stream",
          "name": "stdout",
          "text": [
            "[[ 1  2  3  4]\n",
            " [ 2  3  4  5]\n",
            " [ 3  4  5  6]\n",
            " [ 4  5  6  7]\n",
            " [ 5  6  7  8]\n",
            " [ 6  7  8  9]\n",
            " [ 7  8  9 10]\n",
            " [ 8  9 10 11]\n",
            " [ 9 10 11 12]\n",
            " [10 11 12 13]\n",
            " [11 12 13 14]]\n"
          ]
        }
      ],
      "source": [
        "Z = np.arange(1, 15)\n",
        "window_size = 4\n",
        "R = np.lib.stride_tricks.sliding_window_view(Z, window_size)\n",
        "print(R)\n"
      ]
    },
    {
      "cell_type": "markdown",
      "id": "67f526e6",
      "metadata": {
        "id": "67f526e6"
      },
      "source": [
        "#### 82. Compute a matrix rank (★★★)"
      ]
    },
    {
      "cell_type": "code",
      "execution_count": 106,
      "id": "d70bed5b",
      "metadata": {
        "colab": {
          "base_uri": "https://localhost:8080/"
        },
        "id": "d70bed5b",
        "outputId": "53664192-7ede-43d3-9e07-db216413a2cd"
      },
      "outputs": [
        {
          "output_type": "stream",
          "name": "stdout",
          "text": [
            "5\n"
          ]
        }
      ],
      "source": [
        "M = np.random.randint(0, 10, (5, 5))\n",
        "rank = np.linalg.matrix_rank(M)\n",
        "print(rank)\n"
      ]
    },
    {
      "cell_type": "markdown",
      "id": "0a3fb55f",
      "metadata": {
        "id": "0a3fb55f"
      },
      "source": [
        "#### 83. How to find the most frequent value in an array?"
      ]
    },
    {
      "cell_type": "code",
      "execution_count": 107,
      "id": "b0647d07",
      "metadata": {
        "colab": {
          "base_uri": "https://localhost:8080/"
        },
        "id": "b0647d07",
        "outputId": "05ce84ba-3f1e-4251-d0ce-79e60d870c04"
      },
      "outputs": [
        {
          "output_type": "stream",
          "name": "stdout",
          "text": [
            "0\n"
          ]
        }
      ],
      "source": [
        "Z = np.random.randint(0, 10, 100)\n",
        "most_frequent = np.bincount(Z).argmax()\n",
        "print(most_frequent)\n"
      ]
    },
    {
      "cell_type": "markdown",
      "id": "cb0ac341",
      "metadata": {
        "id": "cb0ac341"
      },
      "source": [
        "#### 84. Extract all the contiguous 3x3 blocks from a random 10x10 matrix (★★★)"
      ]
    },
    {
      "cell_type": "code",
      "execution_count": 108,
      "id": "91798923",
      "metadata": {
        "colab": {
          "base_uri": "https://localhost:8080/"
        },
        "id": "91798923",
        "outputId": "5add6c68-9743-46ed-ed02-cb3e4fc2b69f"
      },
      "outputs": [
        {
          "output_type": "stream",
          "name": "stdout",
          "text": [
            "(8, 8, 3, 3)\n"
          ]
        }
      ],
      "source": [
        "A = np.random.randint(0, 10, (10, 10))\n",
        "blocks = np.lib.stride_tricks.sliding_window_view(A, (3, 3))\n",
        "print(blocks.shape)  # Should be (8, 8, 3, 3)\n"
      ]
    },
    {
      "cell_type": "markdown",
      "id": "c2a9da0d",
      "metadata": {
        "id": "c2a9da0d"
      },
      "source": [
        "#### 85. Create a 2D array subclass such that Z[i,j] == Z[j,i] (★★★)"
      ]
    },
    {
      "cell_type": "code",
      "execution_count": 109,
      "id": "f9b027ff",
      "metadata": {
        "colab": {
          "base_uri": "https://localhost:8080/"
        },
        "id": "f9b027ff",
        "outputId": "0aa58bda-9c88-4e42-f45f-7b5deda3ea91"
      },
      "outputs": [
        {
          "output_type": "stream",
          "name": "stdout",
          "text": [
            "[[0. 0. 0. 0. 0.]\n",
            " [0. 0. 0. 5. 0.]\n",
            " [0. 0. 0. 0. 0.]\n",
            " [0. 5. 0. 0. 0.]\n",
            " [0. 0. 0. 0. 0.]]\n"
          ]
        }
      ],
      "source": [
        "class SymmetricArray(np.ndarray):\n",
        "    def __setitem__(self, index, value):\n",
        "        i, j = index\n",
        "        super().__setitem__((i, j), value)\n",
        "        super().__setitem__((j, i), value)\n",
        "\n",
        "Z = np.zeros((5, 5)).view(SymmetricArray)\n",
        "Z[1, 3] = 5\n",
        "print(Z)\n"
      ]
    },
    {
      "cell_type": "markdown",
      "id": "718ac868",
      "metadata": {
        "id": "718ac868"
      },
      "source": [
        "#### 86. Consider a set of p matrices with shape (n,n) and a set of p vectors with shape (n,1). How to compute the sum of of the p matrix products at once? (result has shape (n,1)) (★★★)"
      ]
    },
    {
      "cell_type": "code",
      "execution_count": 110,
      "id": "4de05217",
      "metadata": {
        "colab": {
          "base_uri": "https://localhost:8080/"
        },
        "id": "4de05217",
        "outputId": "c0301521-6158-4b00-f8a3-47a66f0dcd22"
      },
      "outputs": [
        {
          "output_type": "stream",
          "name": "stdout",
          "text": [
            "(4, 1)\n"
          ]
        }
      ],
      "source": [
        "p, n = 3, 4\n",
        "M = np.random.rand(p, n, n)\n",
        "V = np.random.rand(p, n, 1)\n",
        "\n",
        "result = np.einsum(\"pij,pjk->ik\", M, V)\n",
        "print(result.shape)  # Should be (n,1)\n"
      ]
    },
    {
      "cell_type": "markdown",
      "id": "a6eda6f8",
      "metadata": {
        "id": "a6eda6f8"
      },
      "source": [
        "#### 87. Consider a 16x16 array, how to get the block-sum (block size is 4x4)? (★★★)"
      ]
    },
    {
      "cell_type": "code",
      "execution_count": 111,
      "id": "286b8db5",
      "metadata": {
        "colab": {
          "base_uri": "https://localhost:8080/"
        },
        "id": "286b8db5",
        "outputId": "aba4d44c-b2ef-46d2-fe9d-736556dbf8d6"
      },
      "outputs": [
        {
          "output_type": "stream",
          "name": "stdout",
          "text": [
            "[[ 74  80  56  77]\n",
            " [ 84  57  64  74]\n",
            " [ 81  76 101  76]\n",
            " [ 57  79  78  70]]\n"
          ]
        }
      ],
      "source": [
        "A = np.random.randint(0, 10, (16, 16))\n",
        "block_size = 4\n",
        "block_sums = A.reshape(16//block_size, block_size, 16//block_size, block_size).sum(axis=(1,3))\n",
        "print(block_sums)\n"
      ]
    },
    {
      "cell_type": "markdown",
      "id": "625aa611",
      "metadata": {
        "id": "625aa611"
      },
      "source": [
        "#### 88. How to implement the Game of Life using numpy arrays? (★★★)"
      ]
    },
    {
      "cell_type": "code",
      "execution_count": 112,
      "id": "a01c1ff2",
      "metadata": {
        "colab": {
          "base_uri": "https://localhost:8080/"
        },
        "id": "a01c1ff2",
        "outputId": "195df00b-b9d5-44cf-b463-180b6684aacd"
      },
      "outputs": [
        {
          "output_type": "stream",
          "name": "stdout",
          "text": [
            "[[0 0 0 0 1 0 0 0 1 0]\n",
            " [0 0 0 0 0 0 0 0 0 0]\n",
            " [1 0 0 1 0 0 0 0 0 1]\n",
            " [1 0 0 0 0 0 0 1 0 0]\n",
            " [0 0 0 0 0 0 0 0 0 0]\n",
            " [1 0 1 0 0 0 0 0 0 0]\n",
            " [0 0 1 1 0 0 0 0 0 0]\n",
            " [0 0 1 0 0 0 0 0 0 0]\n",
            " [0 0 1 0 1 1 0 1 0 0]\n",
            " [1 1 1 0 1 0 0 0 0 1]]\n"
          ]
        }
      ],
      "source": [
        "def game_of_life_step(board):\n",
        "    neighbors = sum(np.roll(np.roll(board, i, 0), j, 1)\n",
        "                    for i in (-1, 0, 1) for j in (-1, 0, 1) if (i, j) != (0, 0))\n",
        "    return (neighbors == 3) | (board & (neighbors == 2))\n",
        "\n",
        "board = np.random.choice([0, 1], (10, 10))\n",
        "new_board = game_of_life_step(board)\n",
        "print(new_board)\n"
      ]
    },
    {
      "cell_type": "markdown",
      "id": "ca3dde4a",
      "metadata": {
        "id": "ca3dde4a"
      },
      "source": [
        "#### 89. How to get the n largest values of an array (★★★)"
      ]
    },
    {
      "cell_type": "code",
      "execution_count": 113,
      "id": "5d14148c",
      "metadata": {
        "colab": {
          "base_uri": "https://localhost:8080/"
        },
        "id": "5d14148c",
        "outputId": "a51705e8-93c8-41fa-df79-a198fe39543a"
      },
      "outputs": [
        {
          "output_type": "stream",
          "name": "stdout",
          "text": [
            "[85 89 97]\n"
          ]
        }
      ],
      "source": [
        "Z = np.random.randint(0, 100, 10)\n",
        "n = 3\n",
        "largest_values = np.sort(Z)[-n:]\n",
        "print(largest_values)\n"
      ]
    },
    {
      "cell_type": "markdown",
      "id": "e233805e",
      "metadata": {
        "id": "e233805e"
      },
      "source": [
        "#### 90. Given an arbitrary number of vectors, build the cartesian product (every combinations of every item) (★★★)"
      ]
    },
    {
      "cell_type": "code",
      "execution_count": 114,
      "id": "17638e13",
      "metadata": {
        "colab": {
          "base_uri": "https://localhost:8080/"
        },
        "id": "17638e13",
        "outputId": "242ccacd-1924-422e-fcbb-b1ec05e2577e"
      },
      "outputs": [
        {
          "output_type": "stream",
          "name": "stdout",
          "text": [
            "[[1 4 6]\n",
            " [1 5 6]\n",
            " [2 4 6]\n",
            " [2 5 6]\n",
            " [3 4 6]\n",
            " [3 5 6]\n",
            " [1 4 7]\n",
            " [1 5 7]\n",
            " [2 4 7]\n",
            " [2 5 7]\n",
            " [3 4 7]\n",
            " [3 5 7]]\n"
          ]
        }
      ],
      "source": [
        "arrays = [np.array([1, 2, 3]), np.array([4, 5]), np.array([6, 7])]\n",
        "cartesian_product = np.array(np.meshgrid(*arrays)).T.reshape(-1, len(arrays))\n",
        "print(cartesian_product)\n"
      ]
    },
    {
      "cell_type": "markdown",
      "id": "c163f115",
      "metadata": {
        "id": "c163f115"
      },
      "source": [
        "#### 91. How to create a record array from a regular array? (★★★)"
      ]
    },
    {
      "cell_type": "code",
      "execution_count": 115,
      "id": "da402514",
      "metadata": {
        "colab": {
          "base_uri": "https://localhost:8080/"
        },
        "id": "da402514",
        "outputId": "6f878766-8b7b-407d-f87b-eabdc435567b"
      },
      "outputs": [
        {
          "output_type": "stream",
          "name": "stdout",
          "text": [
            "[(1, 2., 'A') (2, 3., 'B') (3, 4., 'C')]\n"
          ]
        }
      ],
      "source": [
        "import numpy as np\n",
        "\n",
        "Z = np.array([(1, 2.0, 'A'), (2, 3.0, 'B'), (3, 4.0, 'C')],\n",
        "             dtype=[('x', int), ('y', float), ('z', 'U1')])\n",
        "print(Z)\n"
      ]
    },
    {
      "cell_type": "markdown",
      "id": "049c006e",
      "metadata": {
        "id": "049c006e"
      },
      "source": [
        "#### 92. Consider a large vector Z, compute Z to the power of 3 using 3 different methods (★★★)"
      ]
    },
    {
      "cell_type": "code",
      "execution_count": 116,
      "id": "96ce278a",
      "metadata": {
        "colab": {
          "base_uri": "https://localhost:8080/"
        },
        "id": "96ce278a",
        "outputId": "60d0b2b2-38dd-4c29-ef14-15f0161a0cb1"
      },
      "outputs": [
        {
          "output_type": "stream",
          "name": "stdout",
          "text": [
            "True\n"
          ]
        }
      ],
      "source": [
        "Z = np.random.rand(1000000)\n",
        "\n",
        "# Method 1: Using **\n",
        "Z1 = Z ** 3\n",
        "\n",
        "# Method 2: Using np.power\n",
        "Z2 = np.power(Z, 3)\n",
        "\n",
        "# Method 3: Element-wise multiplication\n",
        "Z3 = Z * Z * Z\n",
        "\n",
        "print(np.allclose(Z1, Z2) and np.allclose(Z2, Z3))  # Should return True\n"
      ]
    },
    {
      "cell_type": "markdown",
      "id": "6e652635",
      "metadata": {
        "id": "6e652635"
      },
      "source": [
        "#### 93. Consider two arrays A and B of shape (8,3) and (2,2). How to find rows of A that contain elements of each row of B regardless of the order of the elements in B? (★★★)"
      ]
    },
    {
      "cell_type": "code",
      "execution_count": 117,
      "id": "f429d6d4",
      "metadata": {
        "colab": {
          "base_uri": "https://localhost:8080/",
          "height": 373
        },
        "id": "f429d6d4",
        "outputId": "04872cc7-c343-4cf4-efbf-491ef25a89e3"
      },
      "outputs": [
        {
          "output_type": "error",
          "ename": "AxisError",
          "evalue": "axis 1 is out of bounds for array of dimension 1",
          "traceback": [
            "\u001b[0;31m---------------------------------------------------------------------------\u001b[0m",
            "\u001b[0;31mAxisError\u001b[0m                                 Traceback (most recent call last)",
            "\u001b[0;32m<ipython-input-117-b51000117952>\u001b[0m in \u001b[0;36m<cell line: 0>\u001b[0;34m()\u001b[0m\n\u001b[1;32m      2\u001b[0m \u001b[0mB\u001b[0m \u001b[0;34m=\u001b[0m \u001b[0mnp\u001b[0m\u001b[0;34m.\u001b[0m\u001b[0mrandom\u001b[0m\u001b[0;34m.\u001b[0m\u001b[0mrandint\u001b[0m\u001b[0;34m(\u001b[0m\u001b[0;36m0\u001b[0m\u001b[0;34m,\u001b[0m \u001b[0;36m5\u001b[0m\u001b[0;34m,\u001b[0m \u001b[0;34m(\u001b[0m\u001b[0;36m2\u001b[0m\u001b[0;34m,\u001b[0m \u001b[0;36m2\u001b[0m\u001b[0;34m)\u001b[0m\u001b[0;34m)\u001b[0m\u001b[0;34m\u001b[0m\u001b[0;34m\u001b[0m\u001b[0m\n\u001b[1;32m      3\u001b[0m \u001b[0;34m\u001b[0m\u001b[0m\n\u001b[0;32m----> 4\u001b[0;31m \u001b[0mmatches\u001b[0m \u001b[0;34m=\u001b[0m \u001b[0;34m[\u001b[0m\u001b[0mnp\u001b[0m\u001b[0;34m.\u001b[0m\u001b[0mall\u001b[0m\u001b[0;34m(\u001b[0m\u001b[0mnp\u001b[0m\u001b[0;34m.\u001b[0m\u001b[0misin\u001b[0m\u001b[0;34m(\u001b[0m\u001b[0mrow\u001b[0m\u001b[0;34m,\u001b[0m \u001b[0mB\u001b[0m\u001b[0;34m)\u001b[0m\u001b[0;34m,\u001b[0m \u001b[0maxis\u001b[0m\u001b[0;34m=\u001b[0m\u001b[0;36m1\u001b[0m\u001b[0;34m)\u001b[0m \u001b[0;32mfor\u001b[0m \u001b[0mrow\u001b[0m \u001b[0;32min\u001b[0m \u001b[0mA\u001b[0m\u001b[0;34m]\u001b[0m\u001b[0;34m\u001b[0m\u001b[0;34m\u001b[0m\u001b[0m\n\u001b[0m\u001b[1;32m      5\u001b[0m \u001b[0mmatching_rows\u001b[0m \u001b[0;34m=\u001b[0m \u001b[0mA\u001b[0m\u001b[0;34m[\u001b[0m\u001b[0mnp\u001b[0m\u001b[0;34m.\u001b[0m\u001b[0many\u001b[0m\u001b[0;34m(\u001b[0m\u001b[0mmatches\u001b[0m\u001b[0;34m,\u001b[0m \u001b[0maxis\u001b[0m\u001b[0;34m=\u001b[0m\u001b[0;36m0\u001b[0m\u001b[0;34m)\u001b[0m\u001b[0;34m]\u001b[0m\u001b[0;34m\u001b[0m\u001b[0;34m\u001b[0m\u001b[0m\n\u001b[1;32m      6\u001b[0m \u001b[0mprint\u001b[0m\u001b[0;34m(\u001b[0m\u001b[0mmatching_rows\u001b[0m\u001b[0;34m)\u001b[0m\u001b[0;34m\u001b[0m\u001b[0;34m\u001b[0m\u001b[0m\n",
            "\u001b[0;32m<ipython-input-117-b51000117952>\u001b[0m in \u001b[0;36m<listcomp>\u001b[0;34m(.0)\u001b[0m\n\u001b[1;32m      2\u001b[0m \u001b[0mB\u001b[0m \u001b[0;34m=\u001b[0m \u001b[0mnp\u001b[0m\u001b[0;34m.\u001b[0m\u001b[0mrandom\u001b[0m\u001b[0;34m.\u001b[0m\u001b[0mrandint\u001b[0m\u001b[0;34m(\u001b[0m\u001b[0;36m0\u001b[0m\u001b[0;34m,\u001b[0m \u001b[0;36m5\u001b[0m\u001b[0;34m,\u001b[0m \u001b[0;34m(\u001b[0m\u001b[0;36m2\u001b[0m\u001b[0;34m,\u001b[0m \u001b[0;36m2\u001b[0m\u001b[0;34m)\u001b[0m\u001b[0;34m)\u001b[0m\u001b[0;34m\u001b[0m\u001b[0;34m\u001b[0m\u001b[0m\n\u001b[1;32m      3\u001b[0m \u001b[0;34m\u001b[0m\u001b[0m\n\u001b[0;32m----> 4\u001b[0;31m \u001b[0mmatches\u001b[0m \u001b[0;34m=\u001b[0m \u001b[0;34m[\u001b[0m\u001b[0mnp\u001b[0m\u001b[0;34m.\u001b[0m\u001b[0mall\u001b[0m\u001b[0;34m(\u001b[0m\u001b[0mnp\u001b[0m\u001b[0;34m.\u001b[0m\u001b[0misin\u001b[0m\u001b[0;34m(\u001b[0m\u001b[0mrow\u001b[0m\u001b[0;34m,\u001b[0m \u001b[0mB\u001b[0m\u001b[0;34m)\u001b[0m\u001b[0;34m,\u001b[0m \u001b[0maxis\u001b[0m\u001b[0;34m=\u001b[0m\u001b[0;36m1\u001b[0m\u001b[0;34m)\u001b[0m \u001b[0;32mfor\u001b[0m \u001b[0mrow\u001b[0m \u001b[0;32min\u001b[0m \u001b[0mA\u001b[0m\u001b[0;34m]\u001b[0m\u001b[0;34m\u001b[0m\u001b[0;34m\u001b[0m\u001b[0m\n\u001b[0m\u001b[1;32m      5\u001b[0m \u001b[0mmatching_rows\u001b[0m \u001b[0;34m=\u001b[0m \u001b[0mA\u001b[0m\u001b[0;34m[\u001b[0m\u001b[0mnp\u001b[0m\u001b[0;34m.\u001b[0m\u001b[0many\u001b[0m\u001b[0;34m(\u001b[0m\u001b[0mmatches\u001b[0m\u001b[0;34m,\u001b[0m \u001b[0maxis\u001b[0m\u001b[0;34m=\u001b[0m\u001b[0;36m0\u001b[0m\u001b[0;34m)\u001b[0m\u001b[0;34m]\u001b[0m\u001b[0;34m\u001b[0m\u001b[0;34m\u001b[0m\u001b[0m\n\u001b[1;32m      6\u001b[0m \u001b[0mprint\u001b[0m\u001b[0;34m(\u001b[0m\u001b[0mmatching_rows\u001b[0m\u001b[0;34m)\u001b[0m\u001b[0;34m\u001b[0m\u001b[0;34m\u001b[0m\u001b[0m\n",
            "\u001b[0;32m/usr/local/lib/python3.11/dist-packages/numpy/core/fromnumeric.py\u001b[0m in \u001b[0;36mall\u001b[0;34m(a, axis, out, keepdims, where)\u001b[0m\n\u001b[1;32m   2502\u001b[0m \u001b[0;34m\u001b[0m\u001b[0m\n\u001b[1;32m   2503\u001b[0m     \"\"\"\n\u001b[0;32m-> 2504\u001b[0;31m     return _wrapreduction(a, np.logical_and, 'all', axis, None, out,\n\u001b[0m\u001b[1;32m   2505\u001b[0m                           keepdims=keepdims, where=where)\n\u001b[1;32m   2506\u001b[0m \u001b[0;34m\u001b[0m\u001b[0m\n",
            "\u001b[0;32m/usr/local/lib/python3.11/dist-packages/numpy/core/fromnumeric.py\u001b[0m in \u001b[0;36m_wrapreduction\u001b[0;34m(obj, ufunc, method, axis, dtype, out, **kwargs)\u001b[0m\n\u001b[1;32m     86\u001b[0m                 \u001b[0;32mreturn\u001b[0m \u001b[0mreduction\u001b[0m\u001b[0;34m(\u001b[0m\u001b[0maxis\u001b[0m\u001b[0;34m=\u001b[0m\u001b[0maxis\u001b[0m\u001b[0;34m,\u001b[0m \u001b[0mout\u001b[0m\u001b[0;34m=\u001b[0m\u001b[0mout\u001b[0m\u001b[0;34m,\u001b[0m \u001b[0;34m**\u001b[0m\u001b[0mpasskwargs\u001b[0m\u001b[0;34m)\u001b[0m\u001b[0;34m\u001b[0m\u001b[0;34m\u001b[0m\u001b[0m\n\u001b[1;32m     87\u001b[0m \u001b[0;34m\u001b[0m\u001b[0m\n\u001b[0;32m---> 88\u001b[0;31m     \u001b[0;32mreturn\u001b[0m \u001b[0mufunc\u001b[0m\u001b[0;34m.\u001b[0m\u001b[0mreduce\u001b[0m\u001b[0;34m(\u001b[0m\u001b[0mobj\u001b[0m\u001b[0;34m,\u001b[0m \u001b[0maxis\u001b[0m\u001b[0;34m,\u001b[0m \u001b[0mdtype\u001b[0m\u001b[0;34m,\u001b[0m \u001b[0mout\u001b[0m\u001b[0;34m,\u001b[0m \u001b[0;34m**\u001b[0m\u001b[0mpasskwargs\u001b[0m\u001b[0;34m)\u001b[0m\u001b[0;34m\u001b[0m\u001b[0;34m\u001b[0m\u001b[0m\n\u001b[0m\u001b[1;32m     89\u001b[0m \u001b[0;34m\u001b[0m\u001b[0m\n\u001b[1;32m     90\u001b[0m \u001b[0;34m\u001b[0m\u001b[0m\n",
            "\u001b[0;31mAxisError\u001b[0m: axis 1 is out of bounds for array of dimension 1"
          ]
        }
      ],
      "source": [
        "A = np.random.randint(0, 5, (8, 3))\n",
        "B = np.random.randint(0, 5, (2, 2))\n",
        "\n",
        "matches = [np.all(np.isin(row, B), axis=1) for row in A]\n",
        "matching_rows = A[np.any(matches, axis=0)]\n",
        "print(matching_rows)\n"
      ]
    },
    {
      "cell_type": "markdown",
      "id": "33c4755d",
      "metadata": {
        "id": "33c4755d"
      },
      "source": [
        "#### 94. Considering a 10x3 matrix, extract rows with unequal values (e.g. [2,2,3]) (★★★)"
      ]
    },
    {
      "cell_type": "code",
      "execution_count": 118,
      "id": "29507586",
      "metadata": {
        "colab": {
          "base_uri": "https://localhost:8080/"
        },
        "id": "29507586",
        "outputId": "109cc831-b11c-440a-dc31-82b582ceb515"
      },
      "outputs": [
        {
          "output_type": "stream",
          "name": "stdout",
          "text": [
            "[[2 3 3]\n",
            " [0 2 2]\n",
            " [2 4 3]\n",
            " [3 3 2]\n",
            " [3 4 2]\n",
            " [2 4 0]\n",
            " [3 0 2]\n",
            " [4 3 3]\n",
            " [0 3 4]\n",
            " [1 2 2]]\n"
          ]
        }
      ],
      "source": [
        "A = np.random.randint(0, 5, (10, 3))\n",
        "unequal_rows = A[(A[:, 0] != A[:, 1]) | (A[:, 1] != A[:, 2])]\n",
        "print(unequal_rows)\n"
      ]
    },
    {
      "cell_type": "markdown",
      "id": "c9fe158d",
      "metadata": {
        "id": "c9fe158d"
      },
      "source": [
        "#### 95. Convert a vector of ints into a matrix binary representation (★★★)"
      ]
    },
    {
      "cell_type": "code",
      "execution_count": 119,
      "id": "58209fb7",
      "metadata": {
        "colab": {
          "base_uri": "https://localhost:8080/"
        },
        "id": "58209fb7",
        "outputId": "7844280d-d4a3-464c-cd21-79c93d613e69"
      },
      "outputs": [
        {
          "output_type": "stream",
          "name": "stdout",
          "text": [
            "[[0 0 0 0 0 0 0 0]\n",
            " [1 0 0 0 0 0 0 0]\n",
            " [0 1 0 0 0 0 0 0]\n",
            " [1 1 0 0 0 0 0 0]\n",
            " [0 0 1 0 0 0 0 0]\n",
            " [1 0 1 0 0 0 0 0]]\n"
          ]
        }
      ],
      "source": [
        "Z = np.array([0, 1, 2, 3, 4, 5])\n",
        "binary_matrix = ((Z[:, None] & (1 << np.arange(8))) > 0).astype(int)\n",
        "print(binary_matrix)\n"
      ]
    },
    {
      "cell_type": "markdown",
      "id": "f60086c9",
      "metadata": {
        "id": "f60086c9"
      },
      "source": [
        "#### 96. Given a two dimensional array, how to extract unique rows? (★★★)"
      ]
    },
    {
      "cell_type": "code",
      "execution_count": 120,
      "id": "787b6e4c",
      "metadata": {
        "colab": {
          "base_uri": "https://localhost:8080/"
        },
        "id": "787b6e4c",
        "outputId": "961c6dc3-d290-49bf-c43e-8e94409c830a"
      },
      "outputs": [
        {
          "output_type": "stream",
          "name": "stdout",
          "text": [
            "[[0 1 3]\n",
            " [1 0 2]\n",
            " [1 1 0]\n",
            " [1 1 2]\n",
            " [2 0 1]\n",
            " [2 0 4]\n",
            " [3 2 2]\n",
            " [4 3 0]\n",
            " [4 3 3]]\n"
          ]
        }
      ],
      "source": [
        "A = np.random.randint(0, 5, (10, 3))\n",
        "unique_rows = np.unique(A, axis=0)\n",
        "print(unique_rows)\n"
      ]
    },
    {
      "cell_type": "markdown",
      "id": "0f5e1299",
      "metadata": {
        "id": "0f5e1299"
      },
      "source": [
        "#### 97. Considering 2 vectors A & B, write the einsum equivalent of inner, outer, sum, and mul function (★★★)"
      ]
    },
    {
      "cell_type": "code",
      "execution_count": 121,
      "id": "cd2a8214",
      "metadata": {
        "colab": {
          "base_uri": "https://localhost:8080/"
        },
        "id": "cd2a8214",
        "outputId": "d7953858-8991-4c7e-ac35-3d7756dd8294"
      },
      "outputs": [
        {
          "output_type": "stream",
          "name": "stdout",
          "text": [
            "1.423013945319282 [[0.31503091 0.39844934 0.26093149]\n",
            " [0.49470307 0.62569768 0.40974904]\n",
            " [0.58227848 0.73646257 0.48228535]] 1.9680270790144765 [0.31503091 0.62569768 0.48228535]\n"
          ]
        }
      ],
      "source": [
        "A = np.random.rand(3)\n",
        "B = np.random.rand(3)\n",
        "\n",
        "inner = np.einsum('i,i->', A, B)  # Equivalent to np.inner(A, B)\n",
        "outer = np.einsum('i,j->ij', A, B)  # Equivalent to np.outer(A, B)\n",
        "summation = np.einsum('i->', A)  # Equivalent to np.sum(A)\n",
        "multiplication = np.einsum('i,i->i', A, B)  # Element-wise multiplication\n",
        "\n",
        "print(inner, outer, summation, multiplication)\n"
      ]
    },
    {
      "cell_type": "markdown",
      "id": "a04dd898",
      "metadata": {
        "id": "a04dd898"
      },
      "source": [
        "#### 98. Considering a path described by two vectors (X,Y), how to sample it using equidistant samples (★★★)?"
      ]
    },
    {
      "cell_type": "code",
      "execution_count": 122,
      "id": "12d9c30f",
      "metadata": {
        "colab": {
          "base_uri": "https://localhost:8080/"
        },
        "id": "12d9c30f",
        "outputId": "f4a2360f-7482-456e-a216-9f72ee119176"
      },
      "outputs": [
        {
          "output_type": "stream",
          "name": "stdout",
          "text": [
            "[ 0.          0.16460673  0.32921346  0.49382019  0.65842692  0.82303365\n",
            "  0.88588892  0.86734302  0.84879711  0.83025121  0.81170531  0.77510193\n",
            "  0.59403883  0.41297572  0.23191262  0.05084951 -0.13021359 -0.28531276\n",
            " -0.42742995 -0.56954714 -0.71166433 -0.85378152 -0.95210424 -0.89714627\n",
            " -0.8421883  -0.78723033 -0.73227236 -0.6773144  -0.51663684 -0.32575368\n",
            " -0.13487052  0.05601263  0.24689579  0.41229082  0.5267096   0.64112837\n",
            "  0.75554715  0.86996592  0.98438469  0.91767059  0.82831488  0.73895917\n",
            "  0.64960345  0.56024774  0.4245137   0.23080673  0.03709977 -0.15660719\n",
            " -0.35031415 -0.54402111]\n"
          ]
        }
      ],
      "source": [
        "X = np.linspace(0, 10, num=10)\n",
        "Y = np.sin(X)\n",
        "\n",
        "from scipy.interpolate import interp1d\n",
        "\n",
        "f = interp1d(X, Y, kind='linear')\n",
        "X_new = np.linspace(0, 10, num=50)\n",
        "Y_new = f(X_new)\n",
        "\n",
        "print(Y_new)\n"
      ]
    },
    {
      "cell_type": "markdown",
      "id": "b45bf2ae",
      "metadata": {
        "id": "b45bf2ae"
      },
      "source": [
        "#### 99. Given an integer n and a 2D array X, select from X the rows which can be interpreted as draws from a multinomial distribution with n degrees, i.e., the rows which only contain integers and which sum to n. (★★★)"
      ]
    },
    {
      "cell_type": "code",
      "execution_count": 123,
      "id": "f4179f4a",
      "metadata": {
        "colab": {
          "base_uri": "https://localhost:8080/"
        },
        "id": "f4179f4a",
        "outputId": "8309bbda-cad7-4d0f-c1d6-66699b244b59"
      },
      "outputs": [
        {
          "output_type": "stream",
          "name": "stdout",
          "text": [
            "[[2 2 0 2 4]]\n"
          ]
        }
      ],
      "source": [
        "X = np.random.randint(0, 5, (10, 5))\n",
        "n = 10\n",
        "valid_rows = X[np.sum(X, axis=1) == n]\n",
        "print(valid_rows)\n"
      ]
    },
    {
      "cell_type": "markdown",
      "id": "d92b6592",
      "metadata": {
        "id": "d92b6592"
      },
      "source": [
        "#### 100. Compute bootstrapped 95% confidence intervals for the mean of a 1D array X (i.e., resample the elements of an array with replacement N times, compute the mean of each sample, and then compute percentiles over the means). (★★★)"
      ]
    },
    {
      "cell_type": "code",
      "execution_count": 124,
      "id": "256ebe30",
      "metadata": {
        "colab": {
          "base_uri": "https://localhost:8080/"
        },
        "id": "256ebe30",
        "outputId": "7f388819-41f8-4dd1-a7b8-ae3cf1aea966"
      },
      "outputs": [
        {
          "output_type": "stream",
          "name": "stdout",
          "text": [
            "95% confidence interval: (0.4829937727683307, 0.519154503832487)\n"
          ]
        }
      ],
      "source": [
        "X = np.random.rand(1000)\n",
        "\n",
        "N = 1000\n",
        "means = np.array([np.mean(np.random.choice(X, size=X.shape[0], replace=True)) for _ in range(N)])\n",
        "\n",
        "ci_lower, ci_upper = np.percentile(means, [2.5, 97.5])\n",
        "print(f\"95% confidence interval: ({ci_lower}, {ci_upper})\")\n"
      ]
    }
  ],
  "metadata": {
    "colab": {
      "provenance": []
    },
    "language_info": {
      "name": "python"
    },
    "kernelspec": {
      "name": "python3",
      "display_name": "Python 3"
    }
  },
  "nbformat": 4,
  "nbformat_minor": 5
}