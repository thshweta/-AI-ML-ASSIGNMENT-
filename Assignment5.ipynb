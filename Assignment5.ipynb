{
  "nbformat": 4,
  "nbformat_minor": 0,
  "metadata": {
    "colab": {
      "provenance": []
    },
    "kernelspec": {
      "name": "python3",
      "display_name": "Python 3"
    },
    "language_info": {
      "name": "python"
    }
  },
  "cells": [
    {
      "cell_type": "markdown",
      "source": [
        "# Implementing Multiple ML Algorithmns\n",
        "Simple LR, Multiple LR\n",
        "Logistic\n",
        "Decision Tree Regressor, Decision Tree Claassifier\n",
        "Random Forest\n",
        "Naive Bayes\n",
        "SVC\n",
        "XGBoost"
      ],
      "metadata": {
        "id": "WkrHAxK-S5CB"
      }
    },
    {
      "cell_type": "code",
      "source": [
        "import numpy as np\n",
        "import pandas as pd\n",
        "import matplotlib.pyplot as plt\n",
        "import seaborn as sns\n",
        "\n",
        "from sklearn.model_selection import train_test_split\n",
        "from sklearn.linear_model import LinearRegression, LogisticRegression\n",
        "from sklearn.tree import DecisionTreeRegressor, DecisionTreeClassifier\n",
        "from sklearn.ensemble import RandomForestRegressor, RandomForestClassifier\n",
        "from sklearn.naive_bayes import GaussianNB\n",
        "from sklearn.svm import SVC\n",
        "from xgboost import XGBClassifier\n",
        "\n",
        "from sklearn.metrics import accuracy_score, mean_squared_error, classification_report\n"
      ],
      "metadata": {
        "id": "4cMdD6cnS-Nh"
      },
      "execution_count": 1,
      "outputs": []
    },
    {
      "cell_type": "code",
      "source": [
        "from sklearn.datasets import load_iris, load_diabetes\n",
        "\n",
        "# Load datasets\n",
        "iris = load_iris()\n",
        "diabetes = load_diabetes()\n",
        "\n",
        "# Classification dataset (Iris)\n",
        "X_class, y_class = iris.data, iris.target\n",
        "\n",
        "# Regression dataset (Diabetes)\n",
        "X_reg, y_reg = diabetes.data, diabetes.target\n",
        "\n",
        "# Split Data\n",
        "X_train_cls, X_test_cls, y_train_cls, y_test_cls = train_test_split(X_class, y_class, test_size=0.2, random_state=42)\n",
        "X_train_reg, X_test_reg, y_train_reg, y_test_reg = train_test_split(X_reg, y_reg, test_size=0.2, random_state=42)\n"
      ],
      "metadata": {
        "id": "YMQcMVEpTAXA"
      },
      "execution_count": 2,
      "outputs": []
    },
    {
      "cell_type": "markdown",
      "source": [
        "# Simple & Multiple Linear Regression"
      ],
      "metadata": {
        "id": "7IGI9zuPTJHL"
      }
    },
    {
      "cell_type": "code",
      "source": [
        "\n",
        "lr = LinearRegression()\n",
        "lr.fit(X_train_reg, y_train_reg)\n",
        "y_pred_lr = lr.predict(X_test_reg)\n",
        "\n",
        "print(\"Linear Regression MSE:\", mean_squared_error(y_test_reg, y_pred_lr))\n"
      ],
      "metadata": {
        "colab": {
          "base_uri": "https://localhost:8080/"
        },
        "id": "BxDGGjGXTDL9",
        "outputId": "d1e8c1e7-dddb-49f7-e651-1691da30e1d1"
      },
      "execution_count": 3,
      "outputs": [
        {
          "output_type": "stream",
          "name": "stdout",
          "text": [
            "Linear Regression MSE: 2900.193628493482\n"
          ]
        }
      ]
    },
    {
      "cell_type": "markdown",
      "source": [
        "# Logistic Regression"
      ],
      "metadata": {
        "id": "5Nc2VcsyTKkd"
      }
    },
    {
      "cell_type": "code",
      "source": [
        "logistic = LogisticRegression(max_iter=1000)\n",
        "logistic.fit(X_train_cls, y_train_cls)\n",
        "y_pred_logistic = logistic.predict(X_test_cls)\n",
        "\n",
        "print(\"Logistic Regression Accuracy:\", accuracy_score(y_test_cls, y_pred_logistic))\n",
        "print(classification_report(y_test_cls, y_pred_logistic))\n",
        "\n"
      ],
      "metadata": {
        "colab": {
          "base_uri": "https://localhost:8080/"
        },
        "id": "ovSHp-B9TF3e",
        "outputId": "a0353711-33a7-42b8-884d-e87862e31716"
      },
      "execution_count": 4,
      "outputs": [
        {
          "output_type": "stream",
          "name": "stdout",
          "text": [
            "Logistic Regression Accuracy: 1.0\n",
            "              precision    recall  f1-score   support\n",
            "\n",
            "           0       1.00      1.00      1.00        10\n",
            "           1       1.00      1.00      1.00         9\n",
            "           2       1.00      1.00      1.00        11\n",
            "\n",
            "    accuracy                           1.00        30\n",
            "   macro avg       1.00      1.00      1.00        30\n",
            "weighted avg       1.00      1.00      1.00        30\n",
            "\n"
          ]
        }
      ]
    },
    {
      "cell_type": "markdown",
      "source": [
        "# Decision Tree Regression\n"
      ],
      "metadata": {
        "id": "RnvKZOiQTT8u"
      }
    },
    {
      "cell_type": "code",
      "source": [
        "dt_reg = DecisionTreeRegressor()\n",
        "dt_reg.fit(X_train_reg, y_train_reg)\n",
        "y_pred_dt_reg = dt_reg.predict(X_test_reg)\n",
        "\n",
        "print(\"Decision Tree Regressor MSE:\", mean_squared_error(y_test_reg, y_pred_dt_reg))\n"
      ],
      "metadata": {
        "colab": {
          "base_uri": "https://localhost:8080/"
        },
        "id": "_INT_tFBTR6Q",
        "outputId": "96afba8c-1a21-4927-e5bf-a5dec733b101"
      },
      "execution_count": 5,
      "outputs": [
        {
          "output_type": "stream",
          "name": "stdout",
          "text": [
            "Decision Tree Regressor MSE: 5052.449438202248\n"
          ]
        }
      ]
    },
    {
      "cell_type": "markdown",
      "source": [
        "# Decision Tree Classifier"
      ],
      "metadata": {
        "id": "yiJyBiHHTerv"
      }
    },
    {
      "cell_type": "code",
      "source": [
        "dt_cls = DecisionTreeClassifier()\n",
        "dt_cls.fit(X_train_cls, y_train_cls)\n",
        "y_pred_dt_cls = dt_cls.predict(X_test_cls)\n",
        "\n",
        "print(\"Decision Tree Classifier Accuracy:\", accuracy_score(y_test_cls, y_pred_dt_cls))\n",
        "print(classification_report(y_test_cls, y_pred_dt_cls))\n"
      ],
      "metadata": {
        "colab": {
          "base_uri": "https://localhost:8080/"
        },
        "id": "MI5pW8XBTcpt",
        "outputId": "83e5b994-5578-413f-fbde-d38e4fa4fdd2"
      },
      "execution_count": 6,
      "outputs": [
        {
          "output_type": "stream",
          "name": "stdout",
          "text": [
            "Decision Tree Classifier Accuracy: 1.0\n",
            "              precision    recall  f1-score   support\n",
            "\n",
            "           0       1.00      1.00      1.00        10\n",
            "           1       1.00      1.00      1.00         9\n",
            "           2       1.00      1.00      1.00        11\n",
            "\n",
            "    accuracy                           1.00        30\n",
            "   macro avg       1.00      1.00      1.00        30\n",
            "weighted avg       1.00      1.00      1.00        30\n",
            "\n"
          ]
        }
      ]
    },
    {
      "cell_type": "markdown",
      "source": [
        "# Random Forest Regressor"
      ],
      "metadata": {
        "id": "v_PoQRRKTk3R"
      }
    },
    {
      "cell_type": "code",
      "source": [
        "rf_reg = RandomForestRegressor(n_estimators=100)\n",
        "rf_reg.fit(X_train_reg, y_train_reg)\n",
        "y_pred_rf_reg = rf_reg.predict(X_test_reg)\n",
        "\n",
        "print(\"Random Forest Regressor MSE:\", mean_squared_error(y_test_reg, y_pred_rf_reg))\n"
      ],
      "metadata": {
        "colab": {
          "base_uri": "https://localhost:8080/"
        },
        "id": "7eZiPI5lTi0p",
        "outputId": "84b66e12-2003-4820-ce0e-fc2bcce5c8ef"
      },
      "execution_count": 7,
      "outputs": [
        {
          "output_type": "stream",
          "name": "stdout",
          "text": [
            "Random Forest Regressor MSE: 2969.740224719101\n"
          ]
        }
      ]
    },
    {
      "cell_type": "markdown",
      "source": [
        "# Random Forest Classifier"
      ],
      "metadata": {
        "id": "OKGrmd93TqQv"
      }
    },
    {
      "cell_type": "code",
      "source": [
        "rf_cls = RandomForestClassifier(n_estimators=100)\n",
        "rf_cls.fit(X_train_cls, y_train_cls)\n",
        "y_pred_rf_cls = rf_cls.predict(X_test_cls)\n",
        "\n",
        "print(\"Random Forest Classifier Accuracy:\", accuracy_score(y_test_cls, y_pred_rf_cls))\n",
        "print(classification_report(y_test_cls, y_pred_rf_cls))\n"
      ],
      "metadata": {
        "colab": {
          "base_uri": "https://localhost:8080/"
        },
        "id": "DU3mDTRbToev",
        "outputId": "0f49409e-2e23-47d2-f1d2-64896e693763"
      },
      "execution_count": 8,
      "outputs": [
        {
          "output_type": "stream",
          "name": "stdout",
          "text": [
            "Random Forest Classifier Accuracy: 1.0\n",
            "              precision    recall  f1-score   support\n",
            "\n",
            "           0       1.00      1.00      1.00        10\n",
            "           1       1.00      1.00      1.00         9\n",
            "           2       1.00      1.00      1.00        11\n",
            "\n",
            "    accuracy                           1.00        30\n",
            "   macro avg       1.00      1.00      1.00        30\n",
            "weighted avg       1.00      1.00      1.00        30\n",
            "\n"
          ]
        }
      ]
    },
    {
      "cell_type": "markdown",
      "source": [
        "# Naive Bayes"
      ],
      "metadata": {
        "id": "DZ5y2iyuTuvE"
      }
    },
    {
      "cell_type": "code",
      "source": [
        "nb = GaussianNB()\n",
        "nb.fit(X_train_cls, y_train_cls)\n",
        "y_pred_nb = nb.predict(X_test_cls)\n",
        "\n",
        "print(\"Naïve Bayes Accuracy:\", accuracy_score(y_test_cls, y_pred_nb))\n",
        "print(classification_report(y_test_cls, y_pred_nb))\n"
      ],
      "metadata": {
        "colab": {
          "base_uri": "https://localhost:8080/"
        },
        "id": "1C4tSX7NTuF0",
        "outputId": "c928ebc2-5695-47b0-be16-6d95de787201"
      },
      "execution_count": 9,
      "outputs": [
        {
          "output_type": "stream",
          "name": "stdout",
          "text": [
            "Naïve Bayes Accuracy: 1.0\n",
            "              precision    recall  f1-score   support\n",
            "\n",
            "           0       1.00      1.00      1.00        10\n",
            "           1       1.00      1.00      1.00         9\n",
            "           2       1.00      1.00      1.00        11\n",
            "\n",
            "    accuracy                           1.00        30\n",
            "   macro avg       1.00      1.00      1.00        30\n",
            "weighted avg       1.00      1.00      1.00        30\n",
            "\n"
          ]
        }
      ]
    },
    {
      "cell_type": "markdown",
      "source": [
        "# Support Vector Classifier"
      ],
      "metadata": {
        "id": "QfqiJ_yTT2Uh"
      }
    },
    {
      "cell_type": "code",
      "source": [
        "svc = SVC(kernel='linear')\n",
        "svc.fit(X_train_cls, y_train_cls)\n",
        "y_pred_svc = svc.predict(X_test_cls)\n",
        "\n",
        "print(\"SVC Accuracy:\", accuracy_score(y_test_cls, y_pred_svc))\n",
        "print(classification_report(y_test_cls, y_pred_svc))\n"
      ],
      "metadata": {
        "colab": {
          "base_uri": "https://localhost:8080/"
        },
        "id": "BlPakgvqT0MV",
        "outputId": "6b178bf3-e8b3-4ada-9981-1fc39f8007b9"
      },
      "execution_count": 10,
      "outputs": [
        {
          "output_type": "stream",
          "name": "stdout",
          "text": [
            "SVC Accuracy: 1.0\n",
            "              precision    recall  f1-score   support\n",
            "\n",
            "           0       1.00      1.00      1.00        10\n",
            "           1       1.00      1.00      1.00         9\n",
            "           2       1.00      1.00      1.00        11\n",
            "\n",
            "    accuracy                           1.00        30\n",
            "   macro avg       1.00      1.00      1.00        30\n",
            "weighted avg       1.00      1.00      1.00        30\n",
            "\n"
          ]
        }
      ]
    },
    {
      "cell_type": "markdown",
      "source": [
        "# XG Boost Classifier"
      ],
      "metadata": {
        "id": "-NhuZP7dT-_K"
      }
    },
    {
      "cell_type": "code",
      "source": [
        "xgb = XGBClassifier(use_label_encoder=False, eval_metric='mlogloss')\n",
        "xgb.fit(X_train_cls, y_train_cls)\n",
        "y_pred_xgb = xgb.predict(X_test_cls)\n",
        "\n",
        "print(\"XGBoost Accuracy:\", accuracy_score(y_test_cls, y_pred_xgb))\n",
        "print(classification_report(y_test_cls, y_pred_xgb))\n"
      ],
      "metadata": {
        "colab": {
          "base_uri": "https://localhost:8080/"
        },
        "id": "dJ02otnhT643",
        "outputId": "d1eb60c4-3503-4c47-d884-99cf60dc8467"
      },
      "execution_count": 11,
      "outputs": [
        {
          "output_type": "stream",
          "name": "stdout",
          "text": [
            "XGBoost Accuracy: 1.0\n",
            "              precision    recall  f1-score   support\n",
            "\n",
            "           0       1.00      1.00      1.00        10\n",
            "           1       1.00      1.00      1.00         9\n",
            "           2       1.00      1.00      1.00        11\n",
            "\n",
            "    accuracy                           1.00        30\n",
            "   macro avg       1.00      1.00      1.00        30\n",
            "weighted avg       1.00      1.00      1.00        30\n",
            "\n"
          ]
        },
        {
          "output_type": "stream",
          "name": "stderr",
          "text": [
            "/usr/local/lib/python3.11/dist-packages/xgboost/core.py:158: UserWarning: [09:50:30] WARNING: /workspace/src/learner.cc:740: \n",
            "Parameters: { \"use_label_encoder\" } are not used.\n",
            "\n",
            "  warnings.warn(smsg, UserWarning)\n"
          ]
        }
      ]
    },
    {
      "cell_type": "code",
      "source": [
        "models = {\n",
        "    \"Linear Regression MSE\": mean_squared_error(y_test_reg, y_pred_lr),\n",
        "    \"Decision Tree Regressor MSE\": mean_squared_error(y_test_reg, y_pred_dt_reg),\n",
        "    \"Random Forest Regressor MSE\": mean_squared_error(y_test_reg, y_pred_rf_reg),\n",
        "\n",
        "    \"Logistic Regression Accuracy\": accuracy_score(y_test_cls, y_pred_logistic),\n",
        "    \"Decision Tree Classifier Accuracy\": accuracy_score(y_test_cls, y_pred_dt_cls),\n",
        "    \"Random Forest Classifier Accuracy\": accuracy_score(y_test_cls, y_pred_rf_cls),\n",
        "    \"Naïve Bayes Accuracy\": accuracy_score(y_test_cls, y_pred_nb),\n",
        "    \"SVC Accuracy\": accuracy_score(y_test_cls, y_pred_svc),\n",
        "    \"XGBoost Accuracy\": accuracy_score(y_test_cls, y_pred_xgb)\n",
        "}\n",
        "\n",
        "for model, score in models.items():\n",
        "    print(f\"{model}: {score:.4f}\")\n"
      ],
      "metadata": {
        "colab": {
          "base_uri": "https://localhost:8080/"
        },
        "id": "uzsqPBBBUCfD",
        "outputId": "9a3365bb-26ae-47ad-b4b4-f72c9a9de4e3"
      },
      "execution_count": 12,
      "outputs": [
        {
          "output_type": "stream",
          "name": "stdout",
          "text": [
            "Linear Regression MSE: 2900.1936\n",
            "Decision Tree Regressor MSE: 5052.4494\n",
            "Random Forest Regressor MSE: 2969.7402\n",
            "Logistic Regression Accuracy: 1.0000\n",
            "Decision Tree Classifier Accuracy: 1.0000\n",
            "Random Forest Classifier Accuracy: 1.0000\n",
            "Naïve Bayes Accuracy: 1.0000\n",
            "SVC Accuracy: 1.0000\n",
            "XGBoost Accuracy: 1.0000\n"
          ]
        }
      ]
    },
    {
      "cell_type": "code",
      "source": [],
      "metadata": {
        "id": "13hogaVEUI1J"
      },
      "execution_count": null,
      "outputs": []
    }
  ]
}